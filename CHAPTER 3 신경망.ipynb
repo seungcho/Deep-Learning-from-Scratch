{
 "cells": [
  {
   "cell_type": "markdown",
   "metadata": {},
   "source": [
    "## 3장 신경망\n",
    "> - 신경망은 가중치 매개변수의 적절한 값을 데이터로부터 __자동으로 학습하는 능력__이 신경망의 중요한 성질이다.\n",
    "\n",
    "![test](./img/신경망.png)\n",
    "\n",
    "> - 맨 왼쪽 줄은 일력층, 맨 오른쪽 줄은 출력층, 중간줄은 은닉층이라 한다.\n",
    "> - 은닉층(Hidden)의 뉴련은 사람 눈에는 보이지 않는다.\n",
    "> - 편향의 입력 신호는 항상 1이다.\n",
    "\n",
    "![test](./img/퍼셉트론.png)\n",
    "\n",
    "> - 여기서 b는 편향을 나타내는 매개변수로, __뉴런이 얼마나 쉽게 활성화되느냐를 제어__한다.\n",
    "> - w1,w2는 각 신호의 __가중치를 나타내는 매개변수__로, 각 신호의 영향력을 제어한다.\n",
    "> - 퍼셉트론의 동작은 x1,x2,1 이라는 3개의 신호가 뉴런에 입력되어, 각 신호에 가중치를 곱한 후, 다음 뉴런에 전달 된다. 그리고 다음 뉴런에서는 이들 신호의 값을 더하여, 그 합이 0을 넘으면 1을 출력하고 그렇지 않으면 0을 출력한다.\n",
    "\n",
    "\n",
    "### 활성화 함수\n",
    "> - 입력신호의 총합을 출력신호로 변환하는 함수를 일반적으로 활성화 함수라 한다.\n",
    "\n",
    "![test](./img/활성화함.png)\n",
    "\n",
    "> - a = b + w1x1 + w2x2  \n",
    ">  y = h(a)\n",
    "\n",
    "\n",
    "> - 가중치가 달린 입력 신호와 편향의 총합을 계산하고 그 결과가 a라는 노드가 되고, 활성화 함수 h()를 통과하여 y라는 노드로 변환되는 과정이다."
   ]
  },
  {
   "cell_type": "markdown",
   "metadata": {},
   "source": [
    "### 시그모이드 함수\n",
    "> - 다음은 신경망에서 자주 이용하는 활성화 함수인 시그모이드 함수를 나타낸 식이다.\n",
    "\n",
    "![test](./img/시그모이드.jpg)\n",
    "\n",
    "> - e는 자연상수로 2.7182..의 값을 갖는 실수이다.\n",
    "> - 시그모이드는 입력을 주면 출력을 돌려주는 단순한 함수 일 뿐이다.\n",
    "> - 신경망에서는 활성화 함수로 시그모이드 함수를 이용하여 신호를 변환하고, 그 변환된 신호를 다음 뉴런에 전달한다."
   ]
  },
  {
   "cell_type": "markdown",
   "metadata": {},
   "source": [
    "### 계단 함수 구현\n",
    "![test](./img/계단함수.gif)\n",
    "> - 계단 함수는 위 식과 같이 입력이 0을 넘으면 1을 출력하고, 그 외에는 0을 출력하는 함수이다."
   ]
  },
  {
   "cell_type": "code",
   "execution_count": 1,
   "metadata": {},
   "outputs": [],
   "source": [
    "def step_function(x):\n",
    "    if x > 0:\n",
    "        return 1\n",
    "    else:\n",
    "        return 0\n",
    "# 인수 x는 실수만 받아드린다. 즉, 3.0은 되지만 넘파이 배열을 인수로 넣을 순 없다."
   ]
  },
  {
   "cell_type": "code",
   "execution_count": 2,
   "metadata": {},
   "outputs": [],
   "source": [
    "def step_function(x):\n",
    "    y = x > 0\n",
    "    return y.astype(int.int)\n",
    "# 넘파이 트릭을 사용하여 넘파이 인수를 받도록 한다."
   ]
  },
  {
   "cell_type": "code",
   "execution_count": 26,
   "metadata": {},
   "outputs": [],
   "source": [
    "import numpy as np"
   ]
  },
  {
   "cell_type": "code",
   "execution_count": 4,
   "metadata": {},
   "outputs": [
    {
     "data": {
      "text/plain": [
       "array([-1.,  1.,  2.])"
      ]
     },
     "execution_count": 4,
     "metadata": {},
     "output_type": "execute_result"
    }
   ],
   "source": [
    "x = np.array([-1.0,1.0,2.0])\n",
    "x"
   ]
  },
  {
   "cell_type": "code",
   "execution_count": 5,
   "metadata": {},
   "outputs": [
    {
     "name": "stdout",
     "output_type": "stream",
     "text": [
      "[False  True  True]\n",
      "[0 1 1]\n"
     ]
    }
   ],
   "source": [
    "y = x > 0 # 넘파이 배열에 부등호 연산을 수행하면 배열의 각 원소에 부등호 연산을 수행한 bool배열 생성\n",
    "print(y)\n",
    "y = y.astype(np.int) # bool 자료형에서 int형ㅇ로 자료형 변환\n",
    "print(y)"
   ]
  },
  {
   "cell_type": "code",
   "execution_count": 6,
   "metadata": {},
   "outputs": [],
   "source": [
    "import numpy as np\n",
    "import matplotlib.pylab as plt"
   ]
  },
  {
   "cell_type": "code",
   "execution_count": 7,
   "metadata": {},
   "outputs": [],
   "source": [
    "def step_function(x):\n",
    "    return np.array(x>0,dtype=np.int)"
   ]
  },
  {
   "cell_type": "code",
   "execution_count": 8,
   "metadata": {},
   "outputs": [
    {
     "data": {
      "image/png": "[encoded data removed]",
      "text/plain": [
       "<Figure size 432x288 with 1 Axes>"
      ]
     },
     "metadata": {},
     "output_type": "display_data"
    }
   ],
   "source": [
    "x = np.arange(-5.0,5.0,0.1) # -5 ~ 5 까지 0.1간격의 넘파이 배열을 생성\n",
    "y = step_function(x) # 인수로 받은 넘파일 배열의 원소 각각을 인수로 계단 함수를 실행하여 다시 배열로 만들어준다.\n",
    "plt.plot(x,y) \n",
    "plt.ylim(-0.1,1.1) # y축의 범위 지정\n",
    "plt.show()\n",
    "# 0을 경계로 출력에 0에서 1로 바뀐다."
   ]
  },
  {
   "cell_type": "markdown",
   "metadata": {},
   "source": [
    "### 시그모이드 함수 구현하기\n",
    "![test](./img/시그모이드함수식.png)"
   ]
  },
  {
   "cell_type": "code",
   "execution_count": 19,
   "metadata": {},
   "outputs": [],
   "source": [
    "def sigmoid(x):\n",
    "    return 1/(1+np.exp(-x)) # np.exp(-x) = exp(-x)\n",
    "# 여기선 인수 x가 넘파이 배열이어도 올바른 결과가 나온다"
   ]
  },
  {
   "cell_type": "code",
   "execution_count": 10,
   "metadata": {},
   "outputs": [
    {
     "data": {
      "text/plain": [
       "array([0.26894142, 0.73105858, 0.88079708])"
      ]
     },
     "execution_count": 10,
     "metadata": {},
     "output_type": "execute_result"
    }
   ],
   "source": [
    "x = np.array([-1.0,1.0,2.0])\n",
    "sigmoid(x)"
   ]
  },
  {
   "cell_type": "code",
   "execution_count": 11,
   "metadata": {},
   "outputs": [
    {
     "data": {
      "image/png": "[encoded data removed]",
      "text/plain": [
       "<Figure size 432x288 with 1 Axes>"
      ]
     },
     "metadata": {},
     "output_type": "display_data"
    }
   ],
   "source": [
    "x = np.arange(-5.0,5.0,0.1)\n",
    "y = sigmoid(x)\n",
    "plt.plot(x,y)\n",
    "plt.ylim(-0.1,1.1) # y축 범위 지정\n",
    "plt.show()"
   ]
  },
  {
   "cell_type": "markdown",
   "metadata": {},
   "source": [
    "### 시그모이드 함수와 계단함수의 비교\n",
    "> - 시그모이드 함수는 부드러운 곡선이며 입력에 따라 출력이 연속적인 실수가 흐른다.\n",
    ">> - 이 부드러운 곡선이 신경망 학습에서 아주 중요한 역할을 한다.\n",
    "> - 퍼셉트론에서는 0 혹은 1이 흘렀다면, 신경망에서는 연속적인 실수가 흐른다.\n",
    "> - 둘 다 입력이 중요하면 큰 값을 중요하지 않으면 작은 값을 출력\n",
    "> - 입력이 아무리 작거나 커도 출력은 0 에서 1 사이라는 것도 둘의 공통점이다.\n",
    ">> - 그 밖에도 둘 다 비선형 함수라는 공통점이 있다.\n",
    ">> - 비선형 함수는 문자 그대로 '선형이 아닌' 함수 이다. 즉, 직선 1개로는 그릴 수 없는 함수를 말한다.\n",
    "> - 층을 쌓는 혜택을 얻고 싶다면 활성화 함수로는 반드시 비선형 함수를 사용해야 한다."
   ]
  },
  {
   "cell_type": "markdown",
   "metadata": {},
   "source": [
    "### ReLU 함수\n",
    "> - ReLU는 입력이 0을 넘으면 그 입력을 그대로 출력하고, 0 이하이면 0을 출력하는 함수\n",
    "![test](./img/렐루식.png)\n",
    "![test](./img/렐루.jpg)"
   ]
  },
  {
   "cell_type": "code",
   "execution_count": 12,
   "metadata": {},
   "outputs": [],
   "source": [
    "def relu(x):\n",
    "    return np.maximum(0,x) # maximum은 두 입력 중 큰 값을 선택해 반환하는 함수"
   ]
  },
  {
   "cell_type": "markdown",
   "metadata": {},
   "source": [
    "### 다차원 배열의 계산\n",
    "- 다차원 배열도 그 기본은 '숫자의 집합' 이다."
   ]
  },
  {
   "cell_type": "code",
   "execution_count": 13,
   "metadata": {},
   "outputs": [],
   "source": [
    "import numpy as np"
   ]
  },
  {
   "cell_type": "code",
   "execution_count": 14,
   "metadata": {},
   "outputs": [
    {
     "name": "stdout",
     "output_type": "stream",
     "text": [
      "[1 2 3 4]\n"
     ]
    }
   ],
   "source": [
    "A = np.array([1,2,3,4]) # 1차원 배열\n",
    "print(A)"
   ]
  },
  {
   "cell_type": "code",
   "execution_count": 15,
   "metadata": {},
   "outputs": [
    {
     "data": {
      "text/plain": [
       "1"
      ]
     },
     "execution_count": 15,
     "metadata": {},
     "output_type": "execute_result"
    }
   ],
   "source": [
    "np.ndim(A)"
   ]
  },
  {
   "cell_type": "code",
   "execution_count": 16,
   "metadata": {},
   "outputs": [
    {
     "data": {
      "text/plain": [
       "(4,)"
      ]
     },
     "execution_count": 16,
     "metadata": {},
     "output_type": "execute_result"
    }
   ],
   "source": [
    "A.shape \n",
    "# A.shape이 튜플을 반환하는 것에 주의 \n",
    "# 이는 1차원 배열이라도 다차원 배열일 때와 통일된 형태로 결과를 반환하기 위함."
   ]
  },
  {
   "cell_type": "code",
   "execution_count": 17,
   "metadata": {},
   "outputs": [
    {
     "data": {
      "text/plain": [
       "4"
      ]
     },
     "execution_count": 17,
     "metadata": {},
     "output_type": "execute_result"
    }
   ],
   "source": [
    "A.shape[0]"
   ]
  },
  {
   "cell_type": "code",
   "execution_count": 18,
   "metadata": {},
   "outputs": [
    {
     "name": "stdout",
     "output_type": "stream",
     "text": [
      "[[1 2]\n",
      " [3 4]\n",
      " [5 6]]\n"
     ]
    }
   ],
   "source": [
    "B = np.array([[1,2],[3,4],[5,6]])\n",
    "print(B) # 2차원 배열"
   ]
  },
  {
   "cell_type": "code",
   "execution_count": 19,
   "metadata": {},
   "outputs": [
    {
     "data": {
      "text/plain": [
       "2"
      ]
     },
     "execution_count": 19,
     "metadata": {},
     "output_type": "execute_result"
    }
   ],
   "source": [
    "np.ndim(B)"
   ]
  },
  {
   "cell_type": "code",
   "execution_count": 20,
   "metadata": {},
   "outputs": [
    {
     "data": {
      "text/plain": [
       "(3, 2)"
      ]
     },
     "execution_count": 20,
     "metadata": {},
     "output_type": "execute_result"
    }
   ],
   "source": [
    "B.shape\n",
    "# 3X2 배열은 처음 차원에는 원소가 3개, 다음 차원에는 원소가 2개 있다는 의미"
   ]
  },
  {
   "cell_type": "markdown",
   "metadata": {},
   "source": [
    "### 행렬의 곱\n",
    "> - np.dot(A,B)와 np.dot(B,A)는 다른 값이 될 수 있다는 점이다.\n",
    "> - 행렬의 곱에서는 피연산자의 순서가 다르면 결과도 다르다."
   ]
  },
  {
   "cell_type": "code",
   "execution_count": 21,
   "metadata": {},
   "outputs": [
    {
     "data": {
      "text/plain": [
       "(2, 2)"
      ]
     },
     "execution_count": 21,
     "metadata": {},
     "output_type": "execute_result"
    }
   ],
   "source": [
    "A = np.array([[1,2],[3,4]])\n",
    "A.shape"
   ]
  },
  {
   "cell_type": "code",
   "execution_count": 22,
   "metadata": {},
   "outputs": [
    {
     "data": {
      "text/plain": [
       "(2, 2)"
      ]
     },
     "execution_count": 22,
     "metadata": {},
     "output_type": "execute_result"
    }
   ],
   "source": [
    "B = np.array([[5,6],[7,8]])\n",
    "B.shape"
   ]
  },
  {
   "cell_type": "code",
   "execution_count": 23,
   "metadata": {},
   "outputs": [
    {
     "data": {
      "text/plain": [
       "array([[19, 22],\n",
       "       [43, 50]])"
      ]
     },
     "execution_count": 23,
     "metadata": {},
     "output_type": "execute_result"
    }
   ],
   "source": [
    "np.dot(A,B) # 행렬의 곱"
   ]
  },
  {
   "cell_type": "markdown",
   "metadata": {},
   "source": [
    "### 신경망에서의 행렬 곱"
   ]
  },
  {
   "cell_type": "code",
   "execution_count": 24,
   "metadata": {},
   "outputs": [
    {
     "data": {
      "text/plain": [
       "(2,)"
      ]
     },
     "execution_count": 24,
     "metadata": {},
     "output_type": "execute_result"
    }
   ],
   "source": [
    "X = np.array([1,2])\n",
    "X.shape"
   ]
  },
  {
   "cell_type": "code",
   "execution_count": 25,
   "metadata": {},
   "outputs": [
    {
     "name": "stdout",
     "output_type": "stream",
     "text": [
      "[[1 3 5]\n",
      " [2 4 6]]\n"
     ]
    }
   ],
   "source": [
    "W = np.array([[1,3,5],[2,4,6]])\n",
    "print(W)"
   ]
  },
  {
   "cell_type": "code",
   "execution_count": 26,
   "metadata": {},
   "outputs": [
    {
     "data": {
      "text/plain": [
       "(2, 3)"
      ]
     },
     "execution_count": 26,
     "metadata": {},
     "output_type": "execute_result"
    }
   ],
   "source": [
    "W.shape"
   ]
  },
  {
   "cell_type": "code",
   "execution_count": 27,
   "metadata": {},
   "outputs": [
    {
     "name": "stdout",
     "output_type": "stream",
     "text": [
      "[ 5 11 17]\n"
     ]
    }
   ],
   "source": [
    "Y = np.dot(X,W)\n",
    "print(Y)"
   ]
  },
  {
   "cell_type": "code",
   "execution_count": 28,
   "metadata": {},
   "outputs": [
    {
     "data": {
      "text/plain": [
       "(3,)"
      ]
     },
     "execution_count": 28,
     "metadata": {},
     "output_type": "execute_result"
    }
   ],
   "source": [
    "Y.shape"
   ]
  },
  {
   "cell_type": "markdown",
   "metadata": {},
   "source": [
    "### 3층 신경망 구현\n",
    "> - 신경망에서의 계산을 행렬 계산으로 정리 할 수 있다."
   ]
  },
  {
   "cell_type": "code",
   "execution_count": 29,
   "metadata": {},
   "outputs": [],
   "source": [
    "X = np.array([1.0,0.5]) # shape 2,\n",
    "W1 = np.array([[0.1,0.3,0.5],[0.2,0.4,0.6]]) # shape (2,3)\n",
    "B1 = np.array([0.1,0.2,0.3]) # shape 3,"
   ]
  },
  {
   "cell_type": "code",
   "execution_count": 30,
   "metadata": {},
   "outputs": [
    {
     "name": "stdout",
     "output_type": "stream",
     "text": [
      "(2,)\n",
      "(2, 3)\n",
      "(3,)\n"
     ]
    }
   ],
   "source": [
    "print(X.shape)\n",
    "print(W1.shape)\n",
    "print(B1.shape)"
   ]
  },
  {
   "cell_type": "code",
   "execution_count": 31,
   "metadata": {},
   "outputs": [
    {
     "data": {
      "text/plain": [
       "array([0.57444252, 0.66818777, 0.75026011])"
      ]
     },
     "execution_count": 31,
     "metadata": {},
     "output_type": "execute_result"
    }
   ],
   "source": [
    "A1 = np.dot(X,W1) + B1 # shape 3,\n",
    "Z1 = sigmoid(A1)\n",
    "Z1 # shape 3,"
   ]
  },
  {
   "cell_type": "markdown",
   "metadata": {},
   "source": [
    "![test](./img/일층.png)"
   ]
  },
  {
   "cell_type": "code",
   "execution_count": 32,
   "metadata": {},
   "outputs": [],
   "source": [
    "W2 = np.array([[0.1,0.4],[0.2,0.5],[0.3,0.6]]) # shape 3,2\n",
    "B2 = np.array([0.1,0.2]) # shape 2,"
   ]
  },
  {
   "cell_type": "code",
   "execution_count": 33,
   "metadata": {},
   "outputs": [
    {
     "name": "stdout",
     "output_type": "stream",
     "text": [
      "(3,)\n",
      "(3, 2)\n",
      "(2,)\n"
     ]
    }
   ],
   "source": [
    "print(Z1.shape)\n",
    "print(W2.shape)\n",
    "print(B2.shape)"
   ]
  },
  {
   "cell_type": "code",
   "execution_count": 35,
   "metadata": {},
   "outputs": [
    {
     "data": {
      "text/plain": [
       "array([0.62624937, 0.7710107 ])"
      ]
     },
     "execution_count": 35,
     "metadata": {},
     "output_type": "execute_result"
    }
   ],
   "source": [
    "A2 = np.dot(Z1,W2) + B2 # shape 2,\n",
    "Z2 = sigmoid(A2) # shape 2,\n",
    "Z2 "
   ]
  },
  {
   "cell_type": "markdown",
   "metadata": {},
   "source": [
    "![test](./img/2층.png)"
   ]
  },
  {
   "cell_type": "code",
   "execution_count": 36,
   "metadata": {},
   "outputs": [],
   "source": [
    "def identity_function(x):\n",
    "    return x"
   ]
  },
  {
   "cell_type": "code",
   "execution_count": 38,
   "metadata": {},
   "outputs": [
    {
     "name": "stdout",
     "output_type": "stream",
     "text": [
      "[0.31682708 0.69627909]\n"
     ]
    }
   ],
   "source": [
    "W3 = np.array([[0.1,0.3],[0.2,0.4]])\n",
    "B3 = np.array([0.1,0.2])\n",
    "\n",
    "A3 = np.dot(Z2,W3) + B3 \n",
    "Y = identity_function(A3) \n",
    "print(Y)"
   ]
  },
  {
   "cell_type": "markdown",
   "metadata": {},
   "source": [
    "- 항등 함수를 정의하고 , 이를 출력층의 활성화 함수로 사용 (항등함수는 입력을 그대로 출력하는 함수)\n",
    "- 출력층의 활성화 함수는 풀고자 하는 문제의 성질에 맞게 정한다. \n",
    "> - 예를들어 회귀에는 항등함수를, 2진분류에는 시그모이드 함수를, 다중 분류에는 소프트맥스 함수를 사용하는 것이 일반적이다.\n",
    "\n",
    "### 구현 정리"
   ]
  },
  {
   "cell_type": "code",
   "execution_count": 39,
   "metadata": {},
   "outputs": [],
   "source": [
    "def init_network():\n",
    "    network = {} # 가중치와 편향을 초기화하고 이들을 딕셔너리 변수인 network에 저장\n",
    "    network['W1'] = np.array([[0.1,0.3,0.5],[0.2,0.4,0.6]])\n",
    "    # network['W1']:KEY 값 / np.array([[0.1,0.3,0.5],[0.2,0.4,0.6]]): value 값\n",
    "    network['b1'] = np.array([0.1,0.2,0.3])\n",
    "    network['W2'] = np.array([[0.1,0.4],[0.2,0.5],[0.3,0.6]])\n",
    "    network['b2'] = np.array([0.1,0.2])\n",
    "    network['W3'] = np.array([[0.1,0.3],[0.2,0.4]])\n",
    "    network['b3'] = np.array([0.1,0.2])\n",
    "    return network\n",
    "\n",
    "def forward(network,X):\n",
    "    W1,W2,W3 = network['W1'],network['W2'],network['W3']\n",
    "    b1,b2,b3 = network['b1'],network['b2'],network['b3']\n",
    "    \n",
    "    a1 = np.dot(X,W1) + b1\n",
    "    z1 = sigmoid(a1)\n",
    "    a2 = np.dot(z1,W2) + b2\n",
    "    z2 = sigmoid(a2)\n",
    "    a3 = np.dot(z2,W3) + b3\n",
    "    y = identity_function(a3)    \n",
    "    return y\n"
   ]
  },
  {
   "cell_type": "code",
   "execution_count": 40,
   "metadata": {},
   "outputs": [
    {
     "name": "stdout",
     "output_type": "stream",
     "text": [
      "[0.31682708 0.69627909]\n"
     ]
    }
   ],
   "source": [
    "network = init_network()\n",
    "x = np.array([1.0,0.5])\n",
    "y = forward(network,x)\n",
    "print(y)"
   ]
  },
  {
   "cell_type": "markdown",
   "metadata": {},
   "source": [
    "## 출력층 설계하기\n",
    "> - 신경망은 분류와 회귀 모두에 이용된다.\n",
    "> - 일반적으로 회귀에는 항등함수를, 분류에는 소프트맥스함수를 사용한다."
   ]
  },
  {
   "cell_type": "markdown",
   "metadata": {},
   "source": [
    "### 항등함수와 소프트맥스함수 구현하기\n",
    "- 항등 함수 입력을 그대로 출력한다. 입력과 출력이 항상 같다는 뜻이다.\n",
    "![test](./img/항등함수.png)\n",
    "- 소프트맥스 함수는 주로 분류에서 많이 사용한다.\n",
    "![test](./img/소프트맥스.png)\n",
    "> - n은 출력층의 뉴럭수, y(k)는 그중 k번째 출력을 뜻한다.\n",
    "> - 소프트맥스 함수의 분자는 입력신호 a(k)의 지수함수, 분모는 모든 입력 신호의 지수 함수의 합으로 구성된다.\n",
    "\n",
    "![test](./img/소맥신경망.png)\n",
    "> - 소프트맥스의 출력은 모든 입력 신호로부터 화살표를 받습니다. "
   ]
  },
  {
   "cell_type": "code",
   "execution_count": 38,
   "metadata": {},
   "outputs": [
    {
     "name": "stdout",
     "output_type": "stream",
     "text": [
      "[ 1.34985881 18.17414537 54.59815003]\n",
      "74.1221542101633\n",
      "[0.01821127 0.24519181 0.73659691]\n"
     ]
    }
   ],
   "source": [
    "a = np.array([0.3,2.9,4.0])\n",
    "\n",
    "exp_a = np.exp(a) # exp(a) 지수함수\n",
    "print(exp_a) # shape 3,\n",
    "\n",
    "sum_exp_a = np.sum(exp_a) # 지수함수들의 합\n",
    "print(sum_exp_a) # shape 1,\n",
    "\n",
    "y = exp_a / sum_exp_a # 소프트맥스 함수 식\n",
    "print(y)"
   ]
  },
  {
   "cell_type": "code",
   "execution_count": 42,
   "metadata": {},
   "outputs": [],
   "source": [
    "def softmax(a):\n",
    "    exp_a = np.exp(a)\n",
    "    sum_exp_a = np.sum(exp_a)\n",
    "    y = exp_a / sum_exp_a\n",
    "    return y"
   ]
  },
  {
   "cell_type": "markdown",
   "metadata": {},
   "source": [
    "### 소프트맥스 함수 구현 시 주의점\n",
    "- 오버플로 문제\n",
    "> - 소프트맥스 함수는 지수 함수를 사용하는데, 지수 함수란 것이 아주 큰 값을 내뱉는다.\n",
    "> - 컴퓨터의 수를 4바이트나 8바이트와 같이 유한한 데이터로 다룬다.\n",
    ">> - 다시 말해 표현할 수 있는 수의 범위가 한정되어 너무 큰 값은 표현 할 수 없다는 문제가 발생한다.\n",
    "\n",
    "![test](./img/소프트맥스.png)\n",
    "\n",
    "- C라는 임의의 정수를 분자와 분모 양쪽에 똑같이 곱하고\n",
    "- C를 지수 함수 exp()안으로 옮겨 log를 취한다."
   ]
  },
  {
   "cell_type": "code",
   "execution_count": 43,
   "metadata": {},
   "outputs": [
    {
     "name": "stdout",
     "output_type": "stream",
     "text": [
      "[nan nan nan]\n"
     ]
    },
    {
     "name": "stderr",
     "output_type": "stream",
     "text": [
      "C:\\ProgramData\\Anaconda3\\lib\\site-packages\\ipykernel_launcher.py:2: RuntimeWarning: overflow encountered in exp\n",
      "  \n",
      "C:\\ProgramData\\Anaconda3\\lib\\site-packages\\ipykernel_launcher.py:4: RuntimeWarning: invalid value encountered in true_divide\n",
      "  after removing the cwd from sys.path.\n"
     ]
    }
   ],
   "source": [
    "a = np.array([1010,1000,990])\n",
    "A = softmax(a) # 지수함수에 1010,1000,990 승을 하면 매우 큰 값을 뱉어 inf(무한대)\n",
    "print(A)"
   ]
  },
  {
   "cell_type": "code",
   "execution_count": 44,
   "metadata": {},
   "outputs": [
    {
     "name": "stdout",
     "output_type": "stream",
     "text": [
      "[  0 -10 -20]\n"
     ]
    }
   ],
   "source": [
    "C = np.max(a)\n",
    "y = a-C # 하지만 입력 값들 중 최대값을 빼서 계산을 하면 올바르게 계산가능\n",
    "print(y)"
   ]
  },
  {
   "cell_type": "code",
   "execution_count": 45,
   "metadata": {},
   "outputs": [
    {
     "data": {
      "text/plain": [
       "array([9.99954600e-01, 4.53978686e-05, 2.06106005e-09])"
      ]
     },
     "execution_count": 45,
     "metadata": {},
     "output_type": "execute_result"
    }
   ],
   "source": [
    "np.exp(y) / np.sum(np.exp(y))"
   ]
  },
  {
   "cell_type": "markdown",
   "metadata": {},
   "source": [
    "- 즉, 핵심은 오버플로를 막기 위해 어떤 정수를 더해도 혹은 빼도 결과는 바뀌지 않는다는 점이다"
   ]
  },
  {
   "cell_type": "code",
   "execution_count": 18,
   "metadata": {},
   "outputs": [],
   "source": [
    "def softmax(a):\n",
    "    c = np.max(a)\n",
    "    exp_a = np.exp(a - c) # 분자 분모 양쪽에 입력값의 최대 값을 빼준다. 결과는 같다.\n",
    "    sum_exp_a = np.sum(exp_a) # 오버플로 대책\n",
    "    y = exp_a / sum_exp_a\n",
    "    return y"
   ]
  },
  {
   "cell_type": "code",
   "execution_count": 50,
   "metadata": {},
   "outputs": [
    {
     "name": "stdout",
     "output_type": "stream",
     "text": [
      "[0.01821127 0.24519181 0.73659691]\n"
     ]
    },
    {
     "data": {
      "text/plain": [
       "1.0"
      ]
     },
     "execution_count": 50,
     "metadata": {},
     "output_type": "execute_result"
    }
   ],
   "source": [
    "a = np.array([0.3,2.9,4.0])\n",
    "y = softmax(a)\n",
    "print(y)\n",
    "np.sum(y)"
   ]
  },
  {
   "cell_type": "markdown",
   "metadata": {},
   "source": [
    "- 소프트맥스 함수의 출력은 0 ~ 1 사이의 실수이다. 또한 그 출력의 총합은 '1'이다.\n",
    "- 출력 총합이 1이 된다는 것은 출력을 확률로 해석할 수 있다.\n",
    "> - 즉, 소프트맥스 함수를 이용함으로써 문제를 확률적(통계적)으로 대응할 수 있게 되는 것이다.\n",
    "> - 주의점으로, 소프트맥스 함수를 적용해도 각 원소(np.array)의 대소 관계는 변하지 않는다.\n",
    ">> - y = exp(x)가 단조 증가 함수이기 때문이다.\n",
    ">> - 그 말은 결과적으로 신경망으로 분류할 때는 출력층의 소프트맥스 함수를 생략해도 무방하다.\n",
    "- 추론 단계에서는 출력층의 소프트맥스 함수를 생략하는 것이 일반적이다.(원소의 대소 관계가 변하지 않기 때문에) 한편, 신경망을 학습시킬 때는 출력층에서 소프트맥스 함수를 사용한다."
   ]
  },
  {
   "cell_type": "markdown",
   "metadata": {},
   "source": [
    "### 손글씨 숫자 인식\n",
    "- 신경망도 두 단계를 거쳐 문제를 해결한다. 먼저 훈련 데이터(학습데이터)를 사용해 가중치 매개변수를 학습하고, 추론 단계에서는 앞서 학습한 매개변수를 사용하여 입력 데이터를 분류한다.\n",
    "- 여기서는 학습과정을 생략하고 추론과정을 먼저 구현한다. 이 추론 과정을 신경망의 순전파라고도 한다.\n",
    "\n",
    "### MNIST 데이터셋\n",
    "- 0 ~ 9 까지의 숫자 이미지로 구성\n",
    "- train_set:60,000, test_set:10,000"
   ]
  },
  {
   "cell_type": "code",
   "execution_count": 17,
   "metadata": {},
   "outputs": [],
   "source": [
    "import sys, os\n",
    "sys.path.append(os.pardir)\n",
    "import numpy as np\n",
    "from dataset.mnist import load_mnist\n",
    "import matplotlib.pyplot as plt\n",
    "from PIL import Image # 이미지 표시 모듈\n",
    "import pickle"
   ]
  },
  {
   "cell_type": "code",
   "execution_count": 6,
   "metadata": {},
   "outputs": [],
   "source": [
    "(x_train,y_train), (x_test,y_test) = load_mnist(flatten=True,normalize=False)"
   ]
  },
  {
   "cell_type": "markdown",
   "metadata": {},
   "source": [
    "- normalize: 입력 이미지 픽셀 값을 0.0 ~ 1.0 사이의 값으로 정규화 하는지 설정\n",
    "- flatten: 1차원 배열로 만들지 설정\n",
    "- one_hot_label: 원-핫 인코딩 형태로 할지 설정"
   ]
  },
  {
   "cell_type": "code",
   "execution_count": 9,
   "metadata": {},
   "outputs": [
    {
     "name": "stdout",
     "output_type": "stream",
     "text": [
      "(60000, 784)\n",
      "(60000,)\n",
      "(10000, 784)\n",
      "(10000,)\n"
     ]
    }
   ],
   "source": [
    "print(x_train.shape) \n",
    "print(y_train.shape)\n",
    "print(x_test.shape)\n",
    "print(y_test.shape)"
   ]
  },
  {
   "cell_type": "code",
   "execution_count": 14,
   "metadata": {},
   "outputs": [],
   "source": [
    "def img_show(img):\n",
    "    pil_img = Image.fromarray(np.uint8(img))\n",
    "    # 넘파이로 저장된 이미지 데이터를 PIL용 데이터 객체로 변환하기 위해 fromarray() 수행\n",
    "    pil_img.show()"
   ]
  },
  {
   "cell_type": "code",
   "execution_count": 15,
   "metadata": {},
   "outputs": [
    {
     "name": "stdout",
     "output_type": "stream",
     "text": [
      "5\n"
     ]
    }
   ],
   "source": [
    "img = x_train[0] # train_set의 첫번째 데이터 정보\n",
    "label = y_train[0] # 첫번 째 label 이미지\n",
    "print(label)"
   ]
  },
  {
   "cell_type": "code",
   "execution_count": 16,
   "metadata": {
    "scrolled": true
   },
   "outputs": [
    {
     "name": "stdout",
     "output_type": "stream",
     "text": [
      "(784,)\n",
      "(28, 28)\n"
     ]
    }
   ],
   "source": [
    "print(img.shape)\n",
    "img = img.reshape(28,28) # 1차원 배열의 데이터를 원래의 이미지 모양으로 변형\n",
    "print(img.shape)\n",
    "\n",
    "img_show(img) # 숫자 5 이미지 출력"
   ]
  },
  {
   "cell_type": "markdown",
   "metadata": {},
   "source": [
    "### 신경망의 추론 과정"
   ]
  },
  {
   "cell_type": "code",
   "execution_count": 20,
   "metadata": {},
   "outputs": [],
   "source": [
    "def get_data():\n",
    "    (x_train,y_train), (x_test,y_test) = load_mnist(flatten=True,normalize=True,one_hot_label=False)  \n",
    "    return x_test,y_test # 데이터를 불러오고 test_set을 return\n",
    "def init_network():\n",
    "    with open('sample_weight.pkl','rb') as f: # 가중치 정보를 f변수에 할당\n",
    "        network = pickle.load(f) # f 변수의 정보를 불러와 network 변수에 할당\n",
    "    return network # network 변수 return\n",
    "def predict(network,x):\n",
    "    W1,W2,W3 = network['W1'],network['W2'],network['W3']\n",
    "    b1,b2,b3 = network['b1'],network['b2'],network['b3']\n",
    "    \n",
    "    a1 = np.dot(x,W1) + b1\n",
    "    z1 = sigmoid(a1)\n",
    "    a2 = np.dot(z1,W2) + b2\n",
    "    z2 = sigmoid(a2)\n",
    "    a3 = np.dot(z2,W3) + b3\n",
    "    y = softmax(a3)\n",
    "    \n",
    "    return y"
   ]
  },
  {
   "cell_type": "markdown",
   "metadata": {},
   "source": [
    "### 정확도 측정"
   ]
  },
  {
   "cell_type": "code",
   "execution_count": 25,
   "metadata": {},
   "outputs": [
    {
     "name": "stdout",
     "output_type": "stream",
     "text": [
      "정확도: 0.9352\n"
     ]
    }
   ],
   "source": [
    "x, t = get_data() # 데이터 불러오기\n",
    "network = init_network() # 가중치 값들 할당 \n",
    "\n",
    "accuracy_cnt = 0 # 정확도 측정 변수 초기화\n",
    "\n",
    "for i in range(len(x)): # len(X): 10,000\n",
    "    y = predict(network,x[i]) # x[i]  0 ~ 9999까지 데이터 예측\n",
    "    p = np.argmax(y) # softmax를 통해 가장 값이 높은 인덱스 추출\n",
    "    if p == t[i]: # 예측한 index와 실제 index가 같다면\n",
    "        accuracy_cnt += 1 # 1씩 누적으로 더 한다.\n",
    "print(\"정확도:\",float(accuracy_cnt/len(x))) # 누적한 accuracy_cnt를 전체 데이터에서 평균 낸다."
   ]
  },
  {
   "cell_type": "markdown",
   "metadata": {},
   "source": [
    "### 배치처리\n",
    "- 배치 처리는 컴퓨터로 계산할 때 큰 이점을 준다. \n",
    "> - 수치 계산 라이브러리 대부분이 큰 배열을 효율적으로 처리할 수 있도록 최적화 되어있기 때문\n",
    "> - 커다란 신경망에서는 데이터 전송이 병목으로 작용하는 경우가 자주 있는데, 배치 처리 함으로써 컴퓨터에게 주는 부하를 줄일 수있다.\n",
    "> - 즉, 큰 배열로 이뤄진 계산을 하는데, 컴퓨터에서는 큰 배열을 한꺼번에 계산하는 것이 작은 배열을 여러 번 계산하는 것 보다 빠르다.\n",
    "\n",
    "### 배치처리구현"
   ]
  },
  {
   "cell_type": "code",
   "execution_count": 27,
   "metadata": {},
   "outputs": [
    {
     "name": "stdout",
     "output_type": "stream",
     "text": [
      "정확도: 0.9352\n"
     ]
    }
   ],
   "source": [
    "x, t = get_data()\n",
    "network = init_network()\n",
    "\n",
    "batch_size = 100 # 배치 크기\n",
    "accuracy_cnt = 0 # 정확도 변수 초기화\n",
    "\n",
    "for i in range(0,len(x),batch_size): # 0 ~ len(x)까지 100장씩 묶어서 꺼낸다.\n",
    "    x_batch = x[i:i+batch_size] # 0 ~ 99 -> 100 ~ 199 -> .. ->\n",
    "    y_batch = predict(network,x_batch) # 배치 단위로 예측을 수행 \n",
    "    p = np.argmax(y_batch,axis=1) # axis = 1  각 행의 가장 큰 값의 index 추출\n",
    "    accuracy_cnt += np.sum(p == t[i:i+batch_size])\n",
    "\n",
    "print(\"정확도:\",float(accuracy_cnt/len(x)))"
   ]
  }
 ],
 "metadata": {
  "kernelspec": {
   "display_name": "Python 3",
   "language": "python",
   "name": "python3"
  },
  "language_info": {
   "codemirror_mode": {
    "name": "ipython",
    "version": 3
   },
   "file_extension": ".py",
   "mimetype": "text/x-python",
   "name": "python",
   "nbconvert_exporter": "python",
   "pygments_lexer": "ipython3",
   "version": "3.6.5"
  }
 },
 "nbformat": 4,
 "nbformat_minor": 2
}
