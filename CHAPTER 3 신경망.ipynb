{
 "cells": [
  {
   "cell_type": "markdown",
   "metadata": {},
   "source": [
    "## **3장 신경망**\n"
   ]
  },
  {
   "cell_type": "markdown",
   "metadata": {},
   "source": [
    "**앞 장에서 배운 퍼셉트론으론 복잡한 함수도 표현할 수 있다는 장점이 있지만, 나쁜 소식은 가중치를 설정하는 작업(원하는 결과를 출력하도록 가중치 값을 적절히 정하는 작업)은 여전히 사람이 수동으로 한다는 것이다.**"
   ]
  },
  {
   "cell_type": "markdown",
   "metadata": {},
   "source": [
    "**신경망은 이 나쁜 소식을 해결해준다. 가중치 매개변수의 적절한 값을 데이터로부터 자동으로 학습하는 능력이 이제부터 살펴볼 신경망의 중요한 성질이다.**"
   ]
  },
  {
   "cell_type": "markdown",
   "metadata": {},
   "source": [
    "**이번 장에서는 신경망의  개요를 설명하고, 신경망이 입력 데이터가 무엇인지 식별하는 처리 과정을 자세히 알아본다.**"
   ]
  },
  {
   "cell_type": "markdown",
   "metadata": {},
   "source": [
    "## **3.1 퍼셉트론에서 신경망으로**"
   ]
  },
  {
   "cell_type": "markdown",
   "metadata": {},
   "source": [
    "**신경망은 앞 장에서 설명한 퍼셉트론과 공통점이 많다. 이번 절에서는 퍼셉트론과 다른 점을 중심으로 신경망 구조를 설명한다.**"
   ]
  },
  {
   "cell_type": "markdown",
   "metadata": {},
   "source": [
    "### **3.1.1 신경망의 예**"
   ]
  },
  {
   "cell_type": "markdown",
   "metadata": {},
   "source": [
    "![test](./img/신경망.png)"
   ]
  },
  {
   "cell_type": "markdown",
   "metadata": {},
   "source": [
    "**여기서 가장 왼쪽 줄은 입력층, 맨 오른쪽 줄은 출력층, 중간 줄을 은닉층이라 한다.**\n",
    "\n",
    "> **은닉층의 뉴런은 (입력층이나 출력층과 달리) 사람 눈에는 보이지 않는다. 그래서 '은닉'이라 한다.**\n",
    "\n",
    "**신경망은 총 3층으로 구성되어 있지만 가중치를 갖는 층은 2개뿐이기 때문에 '2층 신경망'이라고 한다.(입력층, 은닉층, 출력층의 합계에서 1을 뺸 값)를 기준으로 한다.**"
   ]
  },
  {
   "cell_type": "markdown",
   "metadata": {},
   "source": [
    "### **3.1.2 퍼셉트론 복습**"
   ]
  },
  {
   "cell_type": "markdown",
   "metadata": {},
   "source": [
    "![test](./img/편향명시.png)"
   ]
  },
  {
   "cell_type": "markdown",
   "metadata": {},
   "source": [
    "**편향을 명시한 퍼셉트론은 위 그림과 같다. 여기서 b는 편향을 나타내는 매개변수로, 뉴런이 얼마나 쉽게 활성화되느냐를 제어한다. 한편, w1, w2는 각 신호의 가중치를 나타내는 매개변수로, 각 신호의 영향력을 제어한다.**"
   ]
  },
  {
   "cell_type": "markdown",
   "metadata": {},
   "source": [
    "**위 그림에서 가중치가 b이고 입력이 1인 뉴런이 추가되었다. 이 퍼셉트론의 동작은 x1,x2,1 이라는 3개의 신호가 뉴런에 입력되어, 각 신호에 가중치를 곱한 후, 다음 뉴런에 전달한다.**"
   ]
  },
  {
   "cell_type": "markdown",
   "metadata": {},
   "source": [
    "**다음 뉴런에서는 이들 신호의 값을 더하여, 그 합이 0을 넘으면 1을 출력하고 그렇지 않으면 0을 출력한다. 참고로, 편형의 입력 신호는 항상 1이기 때문에 그림에서는 해당 뉴런을 회색으로 채워 다른 뉴런과 구별**"
   ]
  },
  {
   "cell_type": "markdown",
   "metadata": {},
   "source": [
    "### **3.1.3 활성화 함수의 등장**"
   ]
  },
  {
   "cell_type": "markdown",
   "metadata": {},
   "source": [
    "**조금 전 h(x)라는 함수가 등장했는데, 이처럼 입력 신호의 총합을 출력 신호로 변환하는 함수를 일반적으로 활성화 함수(activation function)라 한다. '활성화'라는 이름이 말해주듯 활성화 함수는 입력 신호의 총합이 활성화를 일으키는지를 정하는 역할을 한다.**"
   ]
  },
  {
   "cell_type": "markdown",
   "metadata": {},
   "source": [
    "![test](./img/활성화함수.png)"
   ]
  },
  {
   "cell_type": "markdown",
   "metadata": {},
   "source": [
    "**가중치 신호를 조합한 결과 a라는 노드가 되고, 활성화 함수 h()를 통과하여 y라는 노드로 변환되는 과정**\n",
    "\n",
    "> **a = b + w1x1 + w2x2**\n",
    "\n",
    "> **y = h(a)**\n",
    "\n",
    "**이 활성화 함수가 퍼셉트론에서 신경망으로 가기 위한 길잡이 이다.**"
   ]
  },
  {
   "cell_type": "markdown",
   "metadata": {},
   "source": [
    "## **3.2 활성화 함수**"
   ]
  },
  {
   "cell_type": "markdown",
   "metadata": {},
   "source": [
    "**퍼셉트론에서는 활성화 함수로 계산 함수를 이용했다. 즉, 활성화 함수로 쓸 수 있는 여러 후보 중에서 퍼셉트론은 계단 함수를 채용하고 있다. 이제 계단 함수 이외의 함수를 사용하면 어떻게 되는지를 알아본다.**\n",
    "\n",
    "> **실은 활성화 함수를 계단함수에서 다른 함수로 변경하는 것이 신경망의 세계로 나아가는 열쇠이다.**"
   ]
  },
  {
   "cell_type": "markdown",
   "metadata": {},
   "source": [
    "### **3.2.1 시그모이드 함수**"
   ]
  },
  {
   "cell_type": "markdown",
   "metadata": {},
   "source": [
    "**신경망에서 자주 이용하는 활성화 함수인 시그모이드(Sigmoid function)를 나타낸 식이다.**"
   ]
  },
  {
   "cell_type": "markdown",
   "metadata": {},
   "source": [
    "![test](./img/시그모이드드.png)"
   ]
  },
  {
   "cell_type": "markdown",
   "metadata": {},
   "source": [
    "> **exp(-z)는 e^-z를 뜻하면, e는 자연상수로 2.7182...의 값을 갖는 실수이다.**\n",
    "\n",
    "**시그모이드 함수는 얼핏 복잡해 보이지만 이 역시 단수한 '함수;일 뿐이다. 함수는 입력을 주면 출력을 돌려주는 변환기이다.**"
   ]
  },
  {
   "cell_type": "markdown",
   "metadata": {},
   "source": [
    "**신경망에서는 활성화 함수로 시그모이드 함수를 이용하여 신호를 변환하고, 그 변환된 신호를 다음 뉴런에 전달한다.**\n",
    "\n",
    "> **사실 앞 장에서 본 퍼셉트론과 앞으로 볼 신경망의 주된 차이는 이 활성화 함수 뿐이다.**"
   ]
  },
  {
   "cell_type": "markdown",
   "metadata": {},
   "source": [
    "### **3.2.2 계단 함수 구현하기**"
   ]
  },
  {
   "cell_type": "markdown",
   "metadata": {},
   "source": [
    "**이번 절과 다음 절에서는 파이썬으로 계단 함수로 그려본다.(함수의 형태를 눈으로 확인해보면 그 함수를 이해하는 데 큰 도움이 된다.**"
   ]
  },
  {
   "cell_type": "markdown",
   "metadata": {},
   "source": [
    "**계단 함수는 입력이 0을 넘으면 1을 출력하고, 그 외에는 0을 출력하는 함수이다.**"
   ]
  },
  {
   "cell_type": "code",
   "execution_count": 2,
   "metadata": {},
   "outputs": [],
   "source": [
    "import numpy as np"
   ]
  },
  {
   "cell_type": "code",
   "execution_count": 3,
   "metadata": {},
   "outputs": [],
   "source": [
    "# 인수 x는 실수만 받아드린다. 즉, 3.0은 되지만 넘파이 배열을 인수로 넣을 순 없다.\n",
    "def step_function(x):\n",
    "    if x > 0:\n",
    "        return 1\n",
    "    else:\n",
    "        return 0"
   ]
  },
  {
   "cell_type": "code",
   "execution_count": 4,
   "metadata": {},
   "outputs": [],
   "source": [
    "# 넘파이 트릭을 사용하여 넘파이 인수를 받도록 한다.\n",
    "def step_function(x):\n",
    "    y = x > 0\n",
    "    return y.astype(np.int)"
   ]
  },
  {
   "cell_type": "code",
   "execution_count": 5,
   "metadata": {},
   "outputs": [
    {
     "name": "stdout",
     "output_type": "stream",
     "text": [
      "[-1.  1.  2.]\n",
      "[False  True  True]\n",
      "[0 1 1]\n"
     ]
    }
   ],
   "source": [
    "x = np.array([-1.0,1.0,2.0])\n",
    "print(x)\n",
    "\n",
    "y = x > 0 # 넘파이 배열에 부등호 연산을 수행하면 배열의 각 원소에 부등호 연산을 수행한 bool배열 생성\n",
    "print(y)\n",
    "\n",
    "y = y.astype(np.int) # 자료형을 변환할 때는 astype() 메서드를 사용한다. bool -> int\n",
    "print(y)"
   ]
  },
  {
   "cell_type": "code",
   "execution_count": 6,
   "metadata": {},
   "outputs": [],
   "source": [
    "import numpy as np\n",
    "import matplotlib.pylab as plt"
   ]
  },
  {
   "cell_type": "code",
   "execution_count": 7,
   "metadata": {},
   "outputs": [],
   "source": [
    "def step_function(x):\n",
    "    return np.array(x>0,dtype=np.int)"
   ]
  },
  {
   "cell_type": "code",
   "execution_count": 8,
   "metadata": {
    "scrolled": true
   },
   "outputs": [
    {
     "data": {
      "image/png": "[encoded data removed]",
      "text/plain": [
       "<Figure size 432x288 with 1 Axes>"
      ]
     },
     "metadata": {
      "needs_background": "light"
     },
     "output_type": "display_data"
    }
   ],
   "source": [
    "x = np.arange(-5.0,5.0,0.1) # -5 ~ 5 까지 0.1간격의 넘파이 배열을 생성\n",
    "y = step_function(x) # 인수로 받은 넘파일 배열의 원소 각각을 인수로 계단 함수를 실행하여 다시 배열로 만들어준다.\n",
    "plt.plot(x,y) \n",
    "plt.ylim(-0.1,1.1) # y축의 범위 지정\n",
    "plt.show() # 0을 경계로 출력에 0에서 1로 바뀐다."
   ]
  },
  {
   "cell_type": "markdown",
   "metadata": {},
   "source": [
    "### **3.2.4 시그모이드 함수 구현하기**"
   ]
  },
  {
   "cell_type": "markdown",
   "metadata": {},
   "source": [
    "![test](./img/시그.png)"
   ]
  },
  {
   "cell_type": "code",
   "execution_count": 9,
   "metadata": {},
   "outputs": [],
   "source": [
    "def sigmoid(x):\n",
    "    return 1/(1+np.exp(-x)) # np.exp(-x) = exp(-x)\n",
    "# 여기선 인수 x가 넘파이 배열이어도 올바른 결과가 나온다"
   ]
  },
  {
   "cell_type": "code",
   "execution_count": 10,
   "metadata": {},
   "outputs": [
    {
     "data": {
      "text/plain": [
       "array([0.26894142, 0.73105858, 0.88079708])"
      ]
     },
     "execution_count": 10,
     "metadata": {},
     "output_type": "execute_result"
    }
   ],
   "source": [
    "x = np.array([-1.0,1.0,2.0])\n",
    "sigmoid(x)"
   ]
  },
  {
   "cell_type": "code",
   "execution_count": 11,
   "metadata": {},
   "outputs": [
    {
     "data": {
      "image/png": "[encoded data removed]",
      "text/plain": [
       "<Figure size 432x288 with 1 Axes>"
      ]
     },
     "metadata": {
      "needs_background": "light"
     },
     "output_type": "display_data"
    }
   ],
   "source": [
    "x = np.arange(-5.0,5.0,0.1) # -0.5 ~ 5.0 까지를 0.1 간격으로 값을 생성\n",
    "y = sigmoid(x)\n",
    "plt.plot(x,y)\n",
    "plt.ylim(-0.1,1.1) # y축 범위 지정\n",
    "plt.show()"
   ]
  },
  {
   "cell_type": "markdown",
   "metadata": {},
   "source": [
    "### **3.2.5 시그모이드 함수와 계단 함수 비교**"
   ]
  },
  {
   "cell_type": "markdown",
   "metadata": {},
   "source": [
    "**시그모이드 함수는 부드러운 곡선이며 입력에 따라 출력이 연속적으로 변화한다.**\n",
    "\n",
    "> **한편, 계단 함수는 0을 경계로 출력이 갑자기 바뀌어버린다.**\n",
    "\n",
    "**시그모이드 함수의 이 매끈함이 신경망 학습에서 아주 중요한 역할을 하게 된다.**"
   ]
  },
  {
   "cell_type": "markdown",
   "metadata": {},
   "source": [
    "**다시 말해 퍼셉트론에서는 뉴런 사이에 0 혹은 1이 흘렀다면, 신경망에서는 연속적인 실수가 흐른다.**"
   ]
  },
  {
   "cell_type": "markdown",
   "metadata": {},
   "source": [
    "**두 함수의 공통점으로는 큰 관점에서 보면 둘은 같은 모양을 하고 있다.**\n",
    "\n",
    "> **둘 다 입력이 작을 떄의 출력은 0에 가깝고(혹은 0이고), 입력이 커지면 출력이 1에 가까워지는 (혹은 1이 되는) 구조인 것이다.**\n",
    "\n",
    "**즉, 계단 함수와 시그모이드 함수는 입력이 중요하면 큰 값을 출력하고 입력이 중요하지 않으면 작은 값을 출력한다. 그리고 입력이 아무리 작거나 커도 출력은 0에서 1사이라는 것도 둘의 공통점이다.**"
   ]
  },
  {
   "cell_type": "markdown",
   "metadata": {},
   "source": [
    "### **3.2.6 비선형 함수**"
   ]
  },
  {
   "cell_type": "markdown",
   "metadata": {},
   "source": [
    "**계단 함수와 시그모이드 함수의 공통점은 그 밖에도 있다. 중요한 공통점으로, 둘 모두는 비선형 함수이다. 시그모이드 함수는 곡선, 계단 함수는 계단처럼 구부러진 직선으로 나타나며, 동시에 비선형 함수로 분류된다.**"
   ]
  },
  {
   "cell_type": "markdown",
   "metadata": {},
   "source": [
    "**활성화 함수를 설명할 때 비선형 함수와 선형 함수라는 용어가 자주 등장한다.**\n",
    "\n",
    "> **함수란 어떤 값을 입력하면 그에 따른 값을 돌려주는 '변환기'이다.**\n",
    "\n",
    "**이 변환기에 무언가 입력했을 때 출력이 입력의 상수배만큼 변하는 함수를 선형 함수라고 한다.**\n",
    "\n",
    "> **수식으로는 f(x) = ax + b이고, 이때 a와 b는 상수이다. 그래서 선형 함수는 곧은 1개의 직선이 된다.**\n",
    "\n",
    "**한편, 비선형 함수는 문자 그대로 '선형이 아닌' 함수이다. 즉, 직선 1개로는 그릴 수 없는 함수를 말한다.**"
   ]
  },
  {
   "cell_type": "markdown",
   "metadata": {},
   "source": [
    "**신경망에서는 활성화 함수로 비선형 함수를 사용해야 하는데, 달리 말하면 선형 함수를 사용해서는 안 된다.**\n",
    "\n",
    "> **그 이유는 바로 선형 함수를 이용하면 신경망의 층을 깊게 하는 의미가 없어지기 때문이다.**\n",
    "\n",
    "**선형 함수의 문제는 층을 아무리 깊게 해도 '은닉층이 없는 네트워크'로도 똑같은 기능을 할 수 있다는 데 있다.**\n",
    "\n",
    "> **h(x) = cx를 활성화 함수로 사용한 3층 네트워크를 만든다고 가정했을 때, 이를 시그으로 나타내면 y(x) = h(h(h(x)))가 된다. 이 계산은 y(x) = c * c * c * x 처럼 곱셈을 세 번 수행하지만, 실은 y(x) = ax와 똑같은 식이다. a = c^3이라고만 하면 끝이다.**\n",
    "\n",
    "**선형 함수를 이용해서는 여러 층으로 구성하는 이점을 살릴 수 없다. 그래서 층을 쌓는 혜택을 얻고 싶다면 활성화 함수로는 반드시 비선형 함수를 사용해야한다.**"
   ]
  },
  {
   "cell_type": "markdown",
   "metadata": {},
   "source": [
    "### **ReLu 함수**"
   ]
  },
  {
   "cell_type": "markdown",
   "metadata": {},
   "source": [
    "**ReLU는 입력이 0을 넘으면 그 입력을 그대로 출력하고, 0 이하이면 0을 출력하는 함수**\n",
    "\n",
    "> **시그모이드 함수는 신경망 분야에서 오래 전 부터 이용해왔으나, 최근에는 ReLu(Rectified Linear Unit)함수를 주로 이용한다.**\n",
    "\n",
    "**이번 장에서는 앞으로 시그모이드 함수를 활성화 함수로 사용하지만, 이 책 후반부는 주로 ReLu 함수를 사용한다.**"
   ]
  },
  {
   "cell_type": "markdown",
   "metadata": {},
   "source": [
    "![test](./img/렐루식.png)\n",
    "![test](./img/렐루.jpg)"
   ]
  },
  {
   "cell_type": "code",
   "execution_count": 12,
   "metadata": {},
   "outputs": [],
   "source": [
    "def relu(x):\n",
    "    return np.maximum(0,x) # maximum은 두 입력 중 큰 값을 선택해 반환하는 함수\n",
    "\n",
    "# def relu(x):\n",
    "#     if x > 0:\n",
    "#         return x\n",
    "#     else:\n",
    "#         return 0"
   ]
  },
  {
   "cell_type": "markdown",
   "metadata": {},
   "source": [
    "## **3.3 다차원 배열의 계산**"
   ]
  },
  {
   "cell_type": "markdown",
   "metadata": {},
   "source": [
    "### **3.3.1 다차원 배열**"
   ]
  },
  {
   "cell_type": "markdown",
   "metadata": {},
   "source": [
    "**다차원 배열도 그 기본은 '숫자의 집합'이다. 숫자가 한 줄로 늘어선 것이나 직사각형으로 늘어놓은 것, 3차원으로 늘어놓은 것이나 (더 일반화한) N차원으로 나열하는 것을 통틀어 다차원 배열이라 한다.**"
   ]
  },
  {
   "cell_type": "code",
   "execution_count": 13,
   "metadata": {},
   "outputs": [],
   "source": [
    "import numpy as np"
   ]
  },
  {
   "cell_type": "code",
   "execution_count": 14,
   "metadata": {},
   "outputs": [
    {
     "name": "stdout",
     "output_type": "stream",
     "text": [
      "[1 2 3 4]\n"
     ]
    }
   ],
   "source": [
    "A = np.array([1,2,3,4]) # 1차원 배열\n",
    "print(A)"
   ]
  },
  {
   "cell_type": "code",
   "execution_count": 15,
   "metadata": {},
   "outputs": [
    {
     "data": {
      "text/plain": [
       "1"
      ]
     },
     "execution_count": 15,
     "metadata": {},
     "output_type": "execute_result"
    }
   ],
   "source": [
    "np.ndim(A) # 차원의 수를 반환"
   ]
  },
  {
   "cell_type": "code",
   "execution_count": 16,
   "metadata": {},
   "outputs": [
    {
     "data": {
      "text/plain": [
       "(4,)"
      ]
     },
     "execution_count": 16,
     "metadata": {},
     "output_type": "execute_result"
    }
   ],
   "source": [
    "# A.shape이 튜플을 반환하는 것에 주의 \n",
    "# 이는 1차원 배열이라도 다차원 배열일 때와 통일된 형태로 결과를 반환하기 위함.\n",
    "A.shape "
   ]
  },
  {
   "cell_type": "code",
   "execution_count": 17,
   "metadata": {},
   "outputs": [
    {
     "data": {
      "text/plain": [
       "4"
      ]
     },
     "execution_count": 17,
     "metadata": {},
     "output_type": "execute_result"
    }
   ],
   "source": [
    "A.shape[0]"
   ]
  },
  {
   "cell_type": "code",
   "execution_count": 18,
   "metadata": {},
   "outputs": [
    {
     "name": "stdout",
     "output_type": "stream",
     "text": [
      "[[1 2]\n",
      " [3 4]\n",
      " [5 6]]\n"
     ]
    }
   ],
   "source": [
    "B = np.array([[1,2],[3,4],[5,6]])\n",
    "print(B) # 2차원 배열"
   ]
  },
  {
   "cell_type": "code",
   "execution_count": 19,
   "metadata": {},
   "outputs": [
    {
     "data": {
      "text/plain": [
       "2"
      ]
     },
     "execution_count": 19,
     "metadata": {},
     "output_type": "execute_result"
    }
   ],
   "source": [
    "np.ndim(B)"
   ]
  },
  {
   "cell_type": "code",
   "execution_count": 20,
   "metadata": {},
   "outputs": [
    {
     "data": {
      "text/plain": [
       "(3, 2)"
      ]
     },
     "execution_count": 20,
     "metadata": {},
     "output_type": "execute_result"
    }
   ],
   "source": [
    "# 3X2 배열은 처음 차원에는 원소가 3개, 다음 차원에는 원소가 2개 있다는 의미\n",
    "B.shape"
   ]
  },
  {
   "cell_type": "markdown",
   "metadata": {},
   "source": [
    "### **3.3.2 행렬의 곱**"
   ]
  },
  {
   "cell_type": "markdown",
   "metadata": {},
   "source": [
    "**np.dot(A,B)와 np.dot(B,A)는 다른 값이 될 수도 있다는 점이다.**\n",
    "\n",
    "> **행렬의 곱에서는 피연산자의 순서가 다르면 결과도 다른다.**"
   ]
  },
  {
   "cell_type": "code",
   "execution_count": 21,
   "metadata": {},
   "outputs": [
    {
     "data": {
      "text/plain": [
       "(2, 2)"
      ]
     },
     "execution_count": 21,
     "metadata": {},
     "output_type": "execute_result"
    }
   ],
   "source": [
    "A = np.array([[1,2],[3,4]])\n",
    "A.shape"
   ]
  },
  {
   "cell_type": "code",
   "execution_count": 22,
   "metadata": {},
   "outputs": [
    {
     "data": {
      "text/plain": [
       "(2, 2)"
      ]
     },
     "execution_count": 22,
     "metadata": {},
     "output_type": "execute_result"
    }
   ],
   "source": [
    "B = np.array([[5,6],[7,8]])\n",
    "B.shape"
   ]
  },
  {
   "cell_type": "code",
   "execution_count": 23,
   "metadata": {},
   "outputs": [
    {
     "data": {
      "text/plain": [
       "array([[19, 22],\n",
       "       [43, 50]])"
      ]
     },
     "execution_count": 23,
     "metadata": {},
     "output_type": "execute_result"
    }
   ],
   "source": [
    "np.dot(A,B) # 행렬의 곱"
   ]
  },
  {
   "cell_type": "markdown",
   "metadata": {},
   "source": [
    "### **3.3.3 신경망에서의 행렬의 곱**"
   ]
  },
  {
   "cell_type": "markdown",
   "metadata": {},
   "source": [
    "**그럼 넘파이 행렬을 써서 신경망을 구현한다.**\n",
    "\n",
    "> **이 신경망은 편향과 활성화 함수를 생략하고 가중치만 갖는다.**"
   ]
  },
  {
   "cell_type": "markdown",
   "metadata": {},
   "source": [
    "![test](./img/행렬곱1.png)"
   ]
  },
  {
   "cell_type": "code",
   "execution_count": 24,
   "metadata": {
    "scrolled": true
   },
   "outputs": [
    {
     "name": "stdout",
     "output_type": "stream",
     "text": [
      "X: [1 2]\n",
      "X.shape: (2,)\n",
      "W: [[1 3 5]\n",
      " [2 4 6]]\n",
      "W.shape: (2, 3)\n",
      "Y: [ 5 11 17]\n",
      "Y.shape: [ 5 11 17]\n"
     ]
    }
   ],
   "source": [
    "X = np.array([1,2])\n",
    "print('X:',X)\n",
    "print('X.shape:',X.shape)\n",
    "W = np.array([[1,3,5],[2,4,6]])\n",
    "print('W:',W)\n",
    "print('W.shape:',W.shape)\n",
    "Y = np.dot(X,W)\n",
    "print('Y:',Y)\n",
    "print('Y.shape:',Y)"
   ]
  },
  {
   "cell_type": "markdown",
   "metadata": {},
   "source": [
    "## **3.4 3층 신경망 구현하기**"
   ]
  },
  {
   "attachments": {},
   "cell_type": "markdown",
   "metadata": {},
   "source": [
    "**이제 더 그럴싸한 신경망을 구현한다. 이번에는 3층 신경망에서 수행되는, 입력부터 출력까지의 처리(순방향 처리)를 구현한다. 이를 위해 앞에서 설명한 넘파이의 다차원 배열을 사용한다. 넘파이 배열을 잘 쓰면 아주 적은 코드만으로 순방향 처리를 완성할 수 있다.**"
   ]
  },
  {
   "cell_type": "markdown",
   "metadata": {},
   "source": [
    "![test](./img/3층신경망.png)"
   ]
  },
  {
   "cell_type": "markdown",
   "metadata": {},
   "source": [
    "**3층 신경망: 입력층(0층)은 2개, 첫 번째 은닉층(1층)은 3개, 두 번째 은닉층(2층)은 2개, 출력층(3층)은 2개의 뉴런으로 구성된다.**\n",
    "\n",
    "> **이번 절의 핵심은 신경망에서의 계산을 행렬 계산으로 정리할 수 있다는 것이다. 신경망 각 층의 계산은 행렬의 곱으로 처리할 수(더 큰 관점에서 생각할 수) 있으니, 세세한 표기 규칙은 잊어버려도 앞으로의 설명을 이해하는 데 전혀 지장이 없다.**"
   ]
  },
  {
   "cell_type": "markdown",
   "metadata": {},
   "source": [
    "### **3.4.1 표기법 설명**"
   ]
  },
  {
   "cell_type": "markdown",
   "metadata": {},
   "source": [
    "![test](./img/표기법.png)"
   ]
  },
  {
   "cell_type": "markdown",
   "metadata": {},
   "source": [
    "**위 그림과 같이 가중치와 은닉층 뉴런의 오른쪽 위에는 '(1)'이 붙어 있다. 이는 1층의 가중치, 1층의 뉴런임을 뜻하는 번호이다. 또, 가중치의 오른쪽 아래의 두 숫자는 차례로 다음 층 뉴런과 앞 층 뉴런의 인덱스 번호이다.**\n",
    "\n",
    "> **가령 W12(1)은 앞 층의 2번째 뉴런(x2)에서 다음 층의 1번째 뉴런(a1(1))으로 향할 때의 가중치라는 뜻이다.**"
   ]
  },
  {
   "cell_type": "markdown",
   "metadata": {},
   "source": [
    "### **3.4.2 각 층의 신호 전달 구현하기**"
   ]
  },
  {
   "cell_type": "markdown",
   "metadata": {},
   "source": [
    "![test](./img/1층.png)"
   ]
  },
  {
   "cell_type": "markdown",
   "metadata": {},
   "source": [
    "**위 그림과 같이 편향을 뜻하는 뉴런인 1이 추가되었다. 편향은 오른쪽 아래 인덱스가 하나밖에 없다는 것에 주의. 이는 앞 층의 편향 뉴런 (뉴런 1)이 하나뿐이기 때문이다.**"
   ]
  },
  {
   "cell_type": "markdown",
   "metadata": {},
   "source": [
    "**그럼 지금까지 확인한 것을 반영하여 a1(1)을 수식으로 나타내본다. a1(1)은 가중치를 곱한 신호 두 개와 편향을 합해서 다음과 같이 계산한다.**"
   ]
  },
  {
   "cell_type": "markdown",
   "metadata": {},
   "source": [
    "![test](./img/수식1.png)"
   ]
  },
  {
   "cell_type": "markdown",
   "metadata": {},
   "source": [
    "**여기에서 행렬의 곱을 이용하면 1층의 '가중치 부분'을 다음 식처럼 간소화할 수 있다.**"
   ]
  },
  {
   "cell_type": "markdown",
   "metadata": {},
   "source": [
    "![test](./img/수식1-1.png)"
   ]
  },
  {
   "cell_type": "markdown",
   "metadata": {},
   "source": [
    "**이때 행렬 A = (a1,a2,a3), X = (x1,x2), W = ([[w11,w21,w31],[w12,w22,w32]]), B = (b1,b2,b3)**"
   ]
  },
  {
   "cell_type": "code",
   "execution_count": 27,
   "metadata": {},
   "outputs": [
    {
     "name": "stdout",
     "output_type": "stream",
     "text": [
      "A1의 결과값: [0.3 0.7 1.1]\n",
      "X.shape: (2,) W1.shape: (2, 3) B1.shape: (3,)\n"
     ]
    }
   ],
   "source": [
    "X = np.array([1.0,0.5]) # shape 2,\n",
    "W1 = np.array([[0.1,0.3,0.5],[0.2,0.4,0.6]]) # shape (2,3)\n",
    "B1 = np.array([0.1,0.2,0.3]) # shape 3,\n",
    "\n",
    "A1 = np.dot(X,W1)+B1\n",
    "print('A1의 결과값:',A1)\n",
    "print('X.shape:',X.shape,'W1.shape:',W1.shape,'B1.shape:', B1.shape)"
   ]
  },
  {
   "cell_type": "markdown",
   "metadata": {},
   "source": [
    "**이 계산은 앞 절에서 한 계산과 같다. W1은 2x3 행렬, X는 원소가 2개인 1차원 배열이다. 여기에서도 역시 W1과 X의 대응하는 차원의 원소 수가 일치하고 있다.**"
   ]
  },
  {
   "cell_type": "markdown",
   "metadata": {},
   "source": [
    "![test](./img/2층층.png)"
   ]
  },
  {
   "cell_type": "markdown",
   "metadata": {},
   "source": [
    "**위 그림과 같이 은닉층에서의 가중치 합(가중 신호와 편향의 총합)을 a로 표기하고 활성화 함수 h()로 변환된 신호를 z로 표기한다. 여기에서는 활성화 함수로 시그모이드 함수를 사용하기로 한다.**"
   ]
  },
  {
   "cell_type": "code",
   "execution_count": 29,
   "metadata": {},
   "outputs": [
    {
     "name": "stdout",
     "output_type": "stream",
     "text": [
      "Z1의 결과값: [0.57444252 0.66818777 0.75026011]\n"
     ]
    }
   ],
   "source": [
    "Z1 = sigmoid(A1)\n",
    "print('Z1의 결과값:',Z1)"
   ]
  },
  {
   "cell_type": "markdown",
   "metadata": {},
   "source": [
    "![test](./img/3층.png)"
   ]
  },
  {
   "cell_type": "code",
   "execution_count": 35,
   "metadata": {},
   "outputs": [
    {
     "name": "stdout",
     "output_type": "stream",
     "text": [
      "Z1.shape: (3,) W2.shape: (3, 2) B2.shape: (2,)\n"
     ]
    }
   ],
   "source": [
    "W2 = np.array([[0.1,0.4],[0.2,0.5],[0.3,0.6]]) # shape 3,2\n",
    "B2 = np.array([0.1,0.2]) # shape 2,\n",
    "print('Z1.shape:',Z1.shape, 'W2.shape:',W2.shape,'B2.shape:',B2.shape)"
   ]
  },
  {
   "cell_type": "code",
   "execution_count": 36,
   "metadata": {},
   "outputs": [
    {
     "name": "stdout",
     "output_type": "stream",
     "text": [
      "Z2의 결과값: [0.62624937 0.7710107 ]\n"
     ]
    }
   ],
   "source": [
    "A2 = np.dot(Z1,W2) + B2 # shape 2,\n",
    "Z2 = sigmoid(A2) # shape 2,\n",
    "print('Z2의 결과값:',Z2)"
   ]
  },
  {
   "cell_type": "markdown",
   "metadata": {},
   "source": [
    "**이 구현은 1층의 출력 Z1이 2층의 입력이 된다는 점을 제외하면 조금 전의 구현과 똑같다. 이처럼 넘파이 배열을 사용하면서 층 사이의 신호 전달을 쉽게 구현할 수 있다.**"
   ]
  },
  {
   "cell_type": "markdown",
   "metadata": {},
   "source": [
    "**마지막으로 2층에서 출력층으로의 신호 전달이다. 출력층의 그동안의 구현과 거의 같다. 딱 하나, 활성화 함수만 지금까지의 은닉층과 다르다.**"
   ]
  },
  {
   "cell_type": "markdown",
   "metadata": {},
   "source": [
    "![test](./img/4층.png)"
   ]
  },
  {
   "cell_type": "code",
   "execution_count": 37,
   "metadata": {},
   "outputs": [],
   "source": [
    "def identity_function(x):\n",
    "    return x"
   ]
  },
  {
   "cell_type": "code",
   "execution_count": 39,
   "metadata": {},
   "outputs": [
    {
     "name": "stdout",
     "output_type": "stream",
     "text": [
      "Y의 결과값: [0.31682708 0.69627909]\n"
     ]
    }
   ],
   "source": [
    "W3 = np.array([[0.1,0.3],[0.2,0.4]])\n",
    "B3 = np.array([0.1,0.2])\n",
    "\n",
    "A3 = np.dot(Z2,W3) + B3 \n",
    "Y = identity_function(A3) \n",
    "print('Y의 결과값:',Y)"
   ]
  },
  {
   "cell_type": "markdown",
   "metadata": {},
   "source": [
    "**출력층의 활성화 함수는 풀고자 하는 문제의 성질에 맞게 정한다.**\n",
    "\n",
    "> **예를들어 회귀에는 항등함수를, 2진분류에는 시그모이드 함수를, 다중 분류에는 소프트맥스 함수를 사용하는 것이 일반적이다.**"
   ]
  },
  {
   "cell_type": "markdown",
   "metadata": {},
   "source": [
    "### **3.4.3 구현 정리**"
   ]
  },
  {
   "cell_type": "markdown",
   "metadata": {},
   "source": [
    "**이로써 3층 신경망에 대한 설명은 끝이다. 그럼 지금까지의 구현을 정리해본다. 신경망 구현의 관례에 따라 가중치만 W1과 같이 대문자로 쓰고, 그 외 편향과 중간 결과 등은 모두 소문자로 쓴다.**"
   ]
  },
  {
   "cell_type": "code",
   "execution_count": 39,
   "metadata": {},
   "outputs": [],
   "source": [
    "def init_network():\n",
    "    # 가중치와 편향을 초기화하고 이들을 딕셔너리 변수인 network에 저장\n",
    "    # 이 딕셔너리 변수 network에는 각 층에 필요한 매개변수(가중치와 편향)을 저장한다.\n",
    "    network = {} \n",
    "    network['W1'] = np.array([[0.1,0.3,0.5],[0.2,0.4,0.6]])\n",
    "    network['b1'] = np.array([0.1,0.2,0.3])\n",
    "    network['W2'] = np.array([[0.1,0.4],[0.2,0.5],[0.3,0.6]])\n",
    "    network['b2'] = np.array([0.1,0.2])\n",
    "    network['W3'] = np.array([[0.1,0.3],[0.2,0.4]])\n",
    "    network['b3'] = np.array([0.1,0.2])\n",
    "    return network\n",
    "\n",
    "def forward(network,X):\n",
    "    # 그리고 forword() 함수는 입력 신호를 출력으로 변환하는 처리 과정을 모두 구현하고 있다.\n",
    "    # 함수 이름을 forward라 한 것은 신호가 순방향(입력에서 출력 방향)으로 전달됨(순전파)을 알리기 위함이다.\n",
    "    W1,W2,W3 = network['W1'],network['W2'],network['W3']\n",
    "    b1,b2,b3 = network['b1'],network['b2'],network['b3']\n",
    "    \n",
    "    a1 = np.dot(X,W1) + b1\n",
    "    z1 = sigmoid(a1)\n",
    "    a2 = np.dot(z1,W2) + b2\n",
    "    z2 = sigmoid(a2)\n",
    "    a3 = np.dot(z2,W3) + b3\n",
    "    y = identity_function(a3)    \n",
    "    return y\n"
   ]
  },
  {
   "cell_type": "code",
   "execution_count": 40,
   "metadata": {},
   "outputs": [
    {
     "name": "stdout",
     "output_type": "stream",
     "text": [
      "[0.31682708 0.69627909]\n"
     ]
    }
   ],
   "source": [
    "network = init_network()\n",
    "x = np.array([1.0,0.5])\n",
    "y = forward(network,x)\n",
    "print(y)"
   ]
  },
  {
   "cell_type": "markdown",
   "metadata": {},
   "source": [
    "## **3.5 출력층 설계하기**"
   ]
  },
  {
   "cell_type": "markdown",
   "metadata": {},
   "source": [
    "**신경망은 분류와 회귀 모두에 이용할 수 있다. 다만 둘 중 어떤 문제냐에 따라 출력층에서 사용하는 활성화 함수가 달라진다. 일반적으로 회귀에는 항등 함수를, 분류에는 소프트맥스 함수를 사용한다.**"
   ]
  },
  {
   "cell_type": "markdown",
   "metadata": {},
   "source": [
    "**기계학습 문제는 분류(classification)와 회귀(regression)로 나뉜다. 분류는 데이터가 어느 클래스(class)에 속하느냐는 문제이다. 사진 속 인물의 성별을 분류하는 문제가 여기에 속한다. 한편, 회귀는 입력 데이터에서 (연속적인) 수치를 예측하는 문제이다. 사진 속 인물의 몸무게(57.4kg)를 예측하는 문제가 회귀이다.**"
   ]
  },
  {
   "cell_type": "markdown",
   "metadata": {},
   "source": [
    "### **3.5.1 항등 함수와 소프트맥스 함수 구현하기**"
   ]
  },
  {
   "cell_type": "markdown",
   "metadata": {},
   "source": [
    "**항등 함수(identity function)는 입력을 그대로 출력한다. 입력과 출력이 항상 같다는 뜻의 항등이다. 그래서 출력층에서 항등 함수를 사용하면 입력 신호가 그대로 출력 신호가 된다.**\n",
    "\n",
    "> **항등 함수에 의한 변환은 은닉층에서의 활성화 함수와 마찬가지로 화살표로 그린다.**\n",
    "\n",
    "![test](./img/항등함수.png)\n",
    "\n",
    "**한편, 분류에서 사용하는 소프트맥스 함수(softmax function)의 식은 다음과 같다.**\n",
    "\n",
    "![test](./img/소맥.png)"
   ]
  },
  {
   "cell_type": "markdown",
   "metadata": {},
   "source": [
    "**exp(x)는 e^x을 뜻하는 지수 함수(exponential function)이다.(e는 자연상수). n은 출력층의 뉴런 수, yk는 그중 k번째 출력임을 뜻한다.**"
   ]
  },
  {
   "cell_type": "markdown",
   "metadata": {},
   "source": [
    "**소프트맥스 함수의 분자는 입력 신호 ak의 지수 함수, 분모는 모든 입력 신호의 지수 함수의 합으로 구성된다.**"
   ]
  },
  {
   "cell_type": "markdown",
   "metadata": {},
   "source": [
    "![test](./img/소맥신경망.png)"
   ]
  },
  {
   "cell_type": "markdown",
   "metadata": {},
   "source": [
    "**소프트맥스의 출력은 모든 입력 신호로부터 화살표를 받는다. 분모에서 보듯, 출력층의 각 뉴런이 모든 입력 신호에 모든 입력 신호에서 영향을 받기 때문이다.**"
   ]
  },
  {
   "cell_type": "code",
   "execution_count": 40,
   "metadata": {},
   "outputs": [
    {
     "name": "stdout",
     "output_type": "stream",
     "text": [
      "[ 1.34985881 18.17414537 54.59815003]\n",
      "74.1221542101633\n",
      "[0.01821127 0.24519181 0.73659691]\n"
     ]
    }
   ],
   "source": [
    "# 여기에서는 파이썬 인터프리터를 사용하여 결과를 하나씩 확인해가며 진행한다.\n",
    "a = np.array([0.3,2.9,4.0])\n",
    "\n",
    "exp_a = np.exp(a) # exp(a) 지수함수\n",
    "print(exp_a) # shape 3,\n",
    "\n",
    "sum_exp_a = np.sum(exp_a) # 지수함수들의 합\n",
    "print(sum_exp_a) # shape 1,\n",
    "\n",
    "y = exp_a / sum_exp_a # 소프트맥스 함수 식\n",
    "print(y)"
   ]
  },
  {
   "cell_type": "code",
   "execution_count": 41,
   "metadata": {},
   "outputs": [],
   "source": [
    "def softmax(a):\n",
    "    exp_a = np.exp(a)\n",
    "    sum_exp_a = np.sum(exp_a)\n",
    "    y = exp_a / sum_exp_a\n",
    "    return y"
   ]
  },
  {
   "cell_type": "markdown",
   "metadata": {},
   "source": [
    "### **3.5.2 소프트맥스 함수 구현 시 주의점**"
   ]
  },
  {
   "cell_type": "markdown",
   "metadata": {},
   "source": [
    "**앞 절에서 구현한 softmax() 함수의 코드는 컴퓨터로 계산할 떄는 결합이 있다. 바로 오버플로 문제이다. 소프트 맥스 함수는 지수 함수를 사용하는데, 지수 함수란 것이 쉽게 아주 큰 값을 내뱉는다.**\n",
    "\n",
    "> **가령 e^10은 20,000이 넘고, e^100은 0이 40개 넘는 큰 값이 되고, e^1000은 무한대를 뜻하는 inf가 되어 돌아온다. 그리고 이런 큰 값끼리 나눗셈을 하면 결과 수치가 '불안정'해진다.**\n",
    "\n",
    "**컴퓨터는 수(number)를 4바이트나 8바이트와 같이 크기가 유한한 데이터로 다룬다. 다시 말해 표현할 수 있는 수의 범위가 한정되어 너무 큰 값은 표현할 수 없다는 문제가 발생한다. 이것을 오버플로우(overflow)라 하며, 컴퓨터로 수치를 계산할 때 주의할 점이다.**"
   ]
  },
  {
   "cell_type": "markdown",
   "metadata": {},
   "source": [
    "\n",
    "![test](./img/소프트맥스.png)\n"
   ]
  },
  {
   "cell_type": "markdown",
   "metadata": {},
   "source": [
    "> **첫 번재 변형에서는 C라는 임의의 정수를 분자와 분모 양쪽에 곱했다.(양쪽에 같은 수를 곱했으니 결국 똑같은 계산이다.)**\n",
    "\n",
    "> **그다음으로 C를 지수함수 exp() 안으로 옮겨 logC로 만든다.**\n",
    "\n",
    "> **마지막으로 logC를 C'라는 새로운 기호로 바꾼다.**\n",
    "\n",
    "**위 식이 말하는 것은 소프트맥스의 지수 함수를 계산할 때 어떤 정수를 더해도(혹은 빼도) 결과는 바뀌지 않는다는 것이다. 여기서 C'에 어떤 값을 대입해도 상관없지만, 오버플로우를 막을 목적으로는 입력 신호 중 최대값을 이용하는 것이 일반적이다.**"
   ]
  },
  {
   "cell_type": "code",
   "execution_count": 43,
   "metadata": {},
   "outputs": [
    {
     "name": "stderr",
     "output_type": "stream",
     "text": [
      "C:\\ProgramData\\Anaconda3\\lib\\site-packages\\ipykernel_launcher.py:2: RuntimeWarning: overflow encountered in exp\n",
      "  \n",
      "C:\\ProgramData\\Anaconda3\\lib\\site-packages\\ipykernel_launcher.py:4: RuntimeWarning: invalid value encountered in true_divide\n",
      "  after removing the cwd from sys.path.\n"
     ]
    },
    {
     "data": {
      "text/plain": [
       "array([nan, nan, nan])"
      ]
     },
     "execution_count": 43,
     "metadata": {},
     "output_type": "execute_result"
    }
   ],
   "source": [
    "a = np.array([1010,1000,990])\n",
    "softmax(a) # 지수함수에 1010,1000,990 승을 하면 매우 큰 값을 뱉어 inf(무한대)"
   ]
  },
  {
   "cell_type": "code",
   "execution_count": 44,
   "metadata": {},
   "outputs": [
    {
     "name": "stdout",
     "output_type": "stream",
     "text": [
      "[  0 -10 -20]\n"
     ]
    }
   ],
   "source": [
    "c = np.max(a) # c = 1010\n",
    "y = a-c # 하지만 입력 값들 중 최대값을 빼서 계산을 하면 올바르게 계산가능\n",
    "print(y)"
   ]
  },
  {
   "cell_type": "code",
   "execution_count": 45,
   "metadata": {},
   "outputs": [
    {
     "data": {
      "text/plain": [
       "array([9.99954600e-01, 4.53978686e-05, 2.06106005e-09])"
      ]
     },
     "execution_count": 45,
     "metadata": {},
     "output_type": "execute_result"
    }
   ],
   "source": [
    "# 즉, 핵심은 오버플로를 막기 위해 어떤 정수를 더해도 혹은 빼도 결과는 바뀌지 않는다는 점이다.\n",
    "np.exp(y) / np.sum(np.exp(y))"
   ]
  },
  {
   "cell_type": "code",
   "execution_count": 45,
   "metadata": {},
   "outputs": [],
   "source": [
    "def softmax(a):\n",
    "    c = np.max(a)\n",
    "    exp_a = np.exp(a - c) # 분자 분모 양쪽에 입력값의 최대 값을 빼준다. 결과는 같다.\n",
    "    sum_exp_a = np.sum(exp_a) # 오버플로 대책\n",
    "    y = exp_a / sum_exp_a\n",
    "    return y"
   ]
  },
  {
   "cell_type": "markdown",
   "metadata": {},
   "source": [
    "### **3.5.3 소프트맥스 함수의 특징**"
   ]
  },
  {
   "cell_type": "markdown",
   "metadata": {},
   "source": [
    "**softmax() 함수를 사용하면 신경망의 출력은 다음과 같이 계산할 수 있다.**"
   ]
  },
  {
   "cell_type": "code",
   "execution_count": 47,
   "metadata": {},
   "outputs": [
    {
     "name": "stdout",
     "output_type": "stream",
     "text": [
      "softmax 변환 결과값: [0.01821127 0.24519181 0.73659691]\n",
      "결과값들의 합: 1.0\n"
     ]
    }
   ],
   "source": [
    "a = np.array([0.3,2.9,4.0])\n",
    "y = softmax(a)\n",
    "print('softmax 변환 결과값:',y)\n",
    "print('결과값들의 합:',np.sum(y))"
   ]
  },
  {
   "cell_type": "markdown",
   "metadata": {},
   "source": [
    "**보는 바와 같이 소프트맥스 함수의 출력은 0에서 1사이의 실수이다. 또, 소프트맥스 함수 출력의 총합은 1이다.**\n",
    "\n",
    "> **출력 총합이 1이 된다는 점은 소프트맥스 함수의 중요한 성질이다.**\n",
    "\n",
    "**이 성질 덕분에 소프트맥스 함수의 출력을 '확률'로 해석할 수 있다. 즉, 소프트맥스 함수를 이용함으로써 문제를 확률적(통계적)으로 대응할 수 있게 되는 것이다.**"
   ]
  },
  {
   "cell_type": "markdown",
   "metadata": {},
   "source": [
    "**여기서 주의점으로, 소프트맥스 함수를 적용해도 각 원소의 대소 관꼐는 변하지 않는다. 이는 지수 함수 y = exp(x)가 단조 증가 함수이기 때문이다.**"
   ]
  },
  {
   "cell_type": "markdown",
   "metadata": {},
   "source": [
    "**신경망을 이용한 분류에서는 일반적으로 가장 큰 출력을 내는 뉴런에 해당하는 클래스로만 인식한다. 그리고 소프트맥스 함수를 적용해도 출력이 가장 큰 뉴런의 위치는 다라지지 않는다.**\n",
    "\n",
    "> **결과적으로 신경망으로 분류할 때는 출력층의 소프트맥스 함수를 생략해도 된다. 현업에서도 지수 함수 계산에 드는 자원 낭비를 줄이고자 출력층의 소프트맥스 함수는 생략하는 것이 일반적이다.**\n",
    "\n",
    " **기계학습의 문제 풀이는 학습과 추론(inference)의 두 단계를 거쳐 이뤄진다. 학습 단계에서 모델을 학습하고, 추론 단계에서 앞서 학습한 모델로 미지의 데이터에 대해서 추론(분류)을 수행한다. 방금 설명한 대로, 추론 단계에서는 출력층의 소프트맥스 함수를 생략하는 것이 일반적이다. 한편, 신경망을 학습시킬 때는 출력층에서 소프트맥스 함수를 사용한다.**"
   ]
  },
  {
   "cell_type": "markdown",
   "metadata": {},
   "source": [
    "### **3.5.4 출력층의 뉴런 수 정하기**"
   ]
  },
  {
   "cell_type": "markdown",
   "metadata": {},
   "source": [
    "**출력층의 뉴런 수는 풀려는 문제에 맞게 적절히 정해야 한다. 분류에서는 분류하고 싶은 클래스 수로 설정하는 것이 일반적이다.**\n",
    "\n",
    "> **예를 들어 입력 이미지를 숫자 0부터 9 중 하나로 분류하는 문제라면 아래 그림 처럼 뉴런을 10개로 설정한다.**\n",
    "\n",
    "> **뉴런의 회색 농도가 해당 뉴런의 출력 값의 크기를 의미한다.**\n",
    "\n",
    "**이 예에서는 색이 가장 짙은 y2, 즉 입력 이미지를 숫자 '2'로 판단했음을 의미한다.**"
   ]
  },
  {
   "cell_type": "markdown",
   "metadata": {},
   "source": [
    "![test](./img/대응.png)"
   ]
  },
  {
   "cell_type": "markdown",
   "metadata": {},
   "source": [
    "### 손글씨 숫자 인식\n",
    "- 신경망도 두 단계를 거쳐 문제를 해결한다. 먼저 훈련 데이터(학습데이터)를 사용해 가중치 매개변수를 학습하고, 추론 단계에서는 앞서 학습한 매개변수를 사용하여 입력 데이터를 분류한다.\n",
    "- 여기서는 학습과정을 생략하고 추론과정을 먼저 구현한다. 이 추론 과정을 신경망의 순전파라고도 한다.\n",
    "\n",
    "### MNIST 데이터셋\n",
    "- 0 ~ 9 까지의 숫자 이미지로 구성\n",
    "- train_set:60,000, test_set:10,000"
   ]
  },
  {
   "cell_type": "code",
   "execution_count": 17,
   "metadata": {},
   "outputs": [],
   "source": [
    "import sys, os\n",
    "sys.path.append(os.pardir)\n",
    "import numpy as np\n",
    "from dataset.mnist import load_mnist\n",
    "import matplotlib.pyplot as plt\n",
    "from PIL import Image # 이미지 표시 모듈\n",
    "import pickle"
   ]
  },
  {
   "cell_type": "code",
   "execution_count": 6,
   "metadata": {},
   "outputs": [],
   "source": [
    "(x_train,y_train), (x_test,y_test) = load_mnist(flatten=True,normalize=False)"
   ]
  },
  {
   "cell_type": "markdown",
   "metadata": {},
   "source": [
    "- normalize: 입력 이미지 픽셀 값을 0.0 ~ 1.0 사이의 값으로 정규화 하는지 설정\n",
    "- flatten: 1차원 배열로 만들지 설정\n",
    "- one_hot_label: 원-핫 인코딩 형태로 할지 설정"
   ]
  },
  {
   "cell_type": "code",
   "execution_count": 9,
   "metadata": {},
   "outputs": [
    {
     "name": "stdout",
     "output_type": "stream",
     "text": [
      "(60000, 784)\n",
      "(60000,)\n",
      "(10000, 784)\n",
      "(10000,)\n"
     ]
    }
   ],
   "source": [
    "print(x_train.shape) \n",
    "print(y_train.shape)\n",
    "print(x_test.shape)\n",
    "print(y_test.shape)"
   ]
  },
  {
   "cell_type": "code",
   "execution_count": 14,
   "metadata": {},
   "outputs": [],
   "source": [
    "def img_show(img):\n",
    "    pil_img = Image.fromarray(np.uint8(img))\n",
    "    # 넘파이로 저장된 이미지 데이터를 PIL용 데이터 객체로 변환하기 위해 fromarray() 수행\n",
    "    pil_img.show()"
   ]
  },
  {
   "cell_type": "code",
   "execution_count": 15,
   "metadata": {},
   "outputs": [
    {
     "name": "stdout",
     "output_type": "stream",
     "text": [
      "5\n"
     ]
    }
   ],
   "source": [
    "img = x_train[0] # train_set의 첫번째 데이터 정보\n",
    "label = y_train[0] # 첫번 째 label 이미지\n",
    "print(label)"
   ]
  },
  {
   "cell_type": "code",
   "execution_count": 16,
   "metadata": {
    "scrolled": true
   },
   "outputs": [
    {
     "name": "stdout",
     "output_type": "stream",
     "text": [
      "(784,)\n",
      "(28, 28)\n"
     ]
    }
   ],
   "source": [
    "print(img.shape)\n",
    "img = img.reshape(28,28) # 1차원 배열의 데이터를 원래의 이미지 모양으로 변형\n",
    "print(img.shape)\n",
    "\n",
    "img_show(img) # 숫자 5 이미지 출력"
   ]
  },
  {
   "cell_type": "markdown",
   "metadata": {},
   "source": [
    "### 신경망의 추론 과정"
   ]
  },
  {
   "cell_type": "code",
   "execution_count": 20,
   "metadata": {},
   "outputs": [],
   "source": [
    "def get_data():\n",
    "    (x_train,y_train), (x_test,y_test) = load_mnist(flatten=True,normalize=True,one_hot_label=False)  \n",
    "    return x_test,y_test # 데이터를 불러오고 test_set을 return\n",
    "def init_network():\n",
    "    with open('sample_weight.pkl','rb') as f: # 가중치 정보를 f변수에 할당\n",
    "        network = pickle.load(f) # f 변수의 정보를 불러와 network 변수에 할당\n",
    "    return network # network 변수 return\n",
    "def predict(network,x):\n",
    "    W1,W2,W3 = network['W1'],network['W2'],network['W3']\n",
    "    b1,b2,b3 = network['b1'],network['b2'],network['b3']\n",
    "    \n",
    "    a1 = np.dot(x,W1) + b1\n",
    "    z1 = sigmoid(a1)\n",
    "    a2 = np.dot(z1,W2) + b2\n",
    "    z2 = sigmoid(a2)\n",
    "    a3 = np.dot(z2,W3) + b3\n",
    "    y = softmax(a3)\n",
    "    \n",
    "    return y"
   ]
  },
  {
   "cell_type": "markdown",
   "metadata": {},
   "source": [
    "### 정확도 측정"
   ]
  },
  {
   "cell_type": "code",
   "execution_count": 25,
   "metadata": {},
   "outputs": [
    {
     "name": "stdout",
     "output_type": "stream",
     "text": [
      "정확도: 0.9352\n"
     ]
    }
   ],
   "source": [
    "x, t = get_data() # 데이터 불러오기\n",
    "network = init_network() # 가중치 값들 할당 \n",
    "\n",
    "accuracy_cnt = 0 # 정확도 측정 변수 초기화\n",
    "\n",
    "for i in range(len(x)): # len(X): 10,000\n",
    "    y = predict(network,x[i]) # x[i]  0 ~ 9999까지 데이터 예측\n",
    "    p = np.argmax(y) # softmax를 통해 가장 값이 높은 인덱스 추출\n",
    "    if p == t[i]: # 예측한 index와 실제 index가 같다면\n",
    "        accuracy_cnt += 1 # 1씩 누적으로 더 한다.\n",
    "print(\"정확도:\",float(accuracy_cnt/len(x))) # 누적한 accuracy_cnt를 전체 데이터에서 평균 낸다."
   ]
  },
  {
   "cell_type": "markdown",
   "metadata": {},
   "source": [
    "### 배치처리\n",
    "- 배치 처리는 컴퓨터로 계산할 때 큰 이점을 준다. \n",
    "> - 수치 계산 라이브러리 대부분이 큰 배열을 효율적으로 처리할 수 있도록 최적화 되어있기 때문\n",
    "> - 커다란 신경망에서는 데이터 전송이 병목으로 작용하는 경우가 자주 있는데, 배치 처리 함으로써 컴퓨터에게 주는 부하를 줄일 수있다.\n",
    "> - 즉, 큰 배열로 이뤄진 계산을 하는데, 컴퓨터에서는 큰 배열을 한꺼번에 계산하는 것이 작은 배열을 여러 번 계산하는 것 보다 빠르다.\n",
    "\n",
    "### 배치처리구현"
   ]
  },
  {
   "cell_type": "code",
   "execution_count": 27,
   "metadata": {},
   "outputs": [
    {
     "name": "stdout",
     "output_type": "stream",
     "text": [
      "정확도: 0.9352\n"
     ]
    }
   ],
   "source": [
    "x, t = get_data()\n",
    "network = init_network()\n",
    "\n",
    "batch_size = 100 # 배치 크기\n",
    "accuracy_cnt = 0 # 정확도 변수 초기화\n",
    "\n",
    "for i in range(0,len(x),batch_size): # 0 ~ len(x)까지 100장씩 묶어서 꺼낸다.\n",
    "    x_batch = x[i:i+batch_size] # 0 ~ 99 -> 100 ~ 199 -> .. ->\n",
    "    y_batch = predict(network,x_batch) # 배치 단위로 예측을 수행 \n",
    "    p = np.argmax(y_batch,axis=1) # axis = 1  각 행의 가장 큰 값의 index 추출\n",
    "    accuracy_cnt += np.sum(p == t[i:i+batch_size])\n",
    "\n",
    "print(\"정확도:\",float(accuracy_cnt/len(x)))"
   ]
  }
 ],
 "metadata": {
  "kernelspec": {
   "display_name": "Python 3",
   "language": "python",
   "name": "python3"
  },
  "language_info": {
   "codemirror_mode": {
    "name": "ipython",
    "version": 3
   },
   "file_extension": ".py",
   "mimetype": "text/x-python",
   "name": "python",
   "nbconvert_exporter": "python",
   "pygments_lexer": "ipython3",
   "version": "3.6.9"
  }
 },
 "nbformat": 4,
 "nbformat_minor": 2
}
