{
 "cells": [
  {
   "cell_type": "markdown",
   "metadata": {},
   "source": [
    "## **CHAPTER 4 신경망 학습**"
   ]
  },
  {
   "cell_type": "markdown",
   "metadata": {},
   "source": [
    "**학습이란 훈련 데이터로부터 가중치 매개변수의 최적값을 자동으로 획득하는 것을 뜻한다.**"
   ]
  },
  {
   "cell_type": "markdown",
   "metadata": {},
   "source": [
    "**신경망이 학습할 수 있도록 해주는 지표인 손실 함수를 소개한다.**\n",
    "\n",
    "> **이 손실 함수의 결괏값을 가장 작게 만드는 가중치 매개변수를 찾는 것이 학습의 목표이다.**"
   ]
  },
  {
   "cell_type": "markdown",
   "metadata": {},
   "source": [
    "## **4.1 데이터에서 학습한다.**"
   ]
  },
  {
   "cell_type": "markdown",
   "metadata": {},
   "source": [
    "**신경망의 특징은 데이터를 보고 학습할 수 있다는 점이다. 데이터에서 학습한다는 것은 가중치 매개변수의 값을 데이터를 보고 자동으로 결정한다는 뜻이다.**"
   ]
  },
  {
   "cell_type": "markdown",
   "metadata": {},
   "source": [
    "### **4.1.1 데이터 주도 학습**"
   ]
  },
  {
   "cell_type": "markdown",
   "metadata": {},
   "source": [
    "**기계학습은 데이터가 생명이다. 데이터에서 답을 찾고 데이터에서 패턴을 발견하고 데이터로 이야기를 만드는, 그것이 바로 기계학습이다.**\n",
    "\n",
    "> **기계학습의 중심에는 데이터가 존재한다. 이처럼 데이터가 이끄는 접근 방식 덕에 사람 중심 접근에서 벗어날 수 있다.**\n",
    "\n",
    "**보통 어떤 문제를 해결하려 들때, 특히 어떤 패턴을 찾아내야 할 때는 사람의 경험과 직관을 단서로 시행착오를 거듭하여 일을 진행한다.**\n",
    "\n",
    "> **반면 기계학습에서는 사람의 개입을 최소화하고 수집한 데이터로부터 패턴을 찾으려 시도한다.**\n",
    "\n",
    "**게다가 신경망과 딥러닝은 기존 기계학습에서 사용하던 방법보다 사람의 개입을 더욱 배제할 수 있게 해주는 중요한 특성을 지녔다.**"
   ]
  },
  {
   "cell_type": "markdown",
   "metadata": {},
   "source": [
    "**기계학습에서는 모아진 데이터로부터 규칙을 찾아내는 역할을 '기계'가 담당한다.**\n",
    "\n",
    "> **다만, 이미지를 벡터로 변환할 때 사용하는 특징은 여전히 '사람'이 설계하는 것임에 주의해야 한다.**\n",
    "\n",
    "**즉, 특징과 기계학습을 활용한 접근에도 문제에 따라서는 '사람'이 적절한 특징을 생각해내야한다.**"
   ]
  },
  {
   "cell_type": "markdown",
   "metadata": {},
   "source": [
    "![test](./img/패러다임.png)\n"
   ]
  },
  {
   "cell_type": "markdown",
   "metadata": {},
   "source": [
    "> **두 번째 접근 방식(특징과 기계학습 방식)에서는 특징을 사람이 설계했지만, 신경망은 이미지에 포함된 중요한 특징까지도 '기계'가 스스로 학습할 것이다.**\n",
    "\n",
    "**딥러닝을 종단간 기계학습(end-to-end machine learning)이라고도 한다. 여기서 종단간은 '처음부터 끝까지'라는 의미로, 데이터(입력)에서 목표한 결과(출력)를 사람의 개입 없이 얻는다는 뜻을 담고 있다.**\n",
    "\n",
    "> **신경망의 이점은 모든 문제를 같은 맥락에서 풀 수 있다는 점에 있다.**\n",
    "\n",
    "**즉, 신경망은 모든 문제를 주어진 데이터 그대로를 입력 데이터로 활용해 'end-to-end'로 학습할 수 있다.**"
   ]
  },
  {
   "cell_type": "markdown",
   "metadata": {},
   "source": [
    "### **4.1.2 훈련 데이터와 시험 데이터**"
   ]
  },
  {
   "cell_type": "markdown",
   "metadata": {},
   "source": [
    "**기계학습 문제는 데이터를 훈련 데이터(training data)와 시험 데이터(test data)로 나눠 학습과 실험을 수행하는 것이 일반적이다.**\n",
    "\n",
    "> **우선 훈련 데이터만 사용하여 학습하면서 최적의 매개변수를 찾는다. 그런 다음 시험 데이터를 사용하여 앞서 훈련한 모델의 실력을 평가한다.**\n",
    "\n",
    "**우리가 원하는 것은 범용적으로 사용할 수 있는 모델이기 때문이다. 이 범용 능력을 제대로 평가하기 위해 훈련 데이터와 시험 데이터를 분리한다.**\n",
    "\n",
    "> **참고로 한 데이터셋에만 지나치게 최적화된 상태를 오버피팅(overfiting)이라고 한다. 오버피팅 피하기는 기계학습의 중요한 과제이기도 한다.**"
   ]
  },
  {
   "cell_type": "markdown",
   "metadata": {},
   "source": [
    "## **4.2 손실 함수**"
   ]
  },
  {
   "cell_type": "markdown",
   "metadata": {},
   "source": [
    "**신경망 학습에서는 현재의 상태를 '하나의 지표'로 표현한다. 그리고 그 지표를 가장 좋게 만들어주는 가중치 매개변수의 값을 탐색하는 것이다.**"
   ]
  },
  {
   "cell_type": "markdown",
   "metadata": {},
   "source": [
    "**신경망도 '하나의 지표'를 기준으로 최적의 매개변수 값을 탐색한다.**"
   ]
  },
  {
   "cell_type": "markdown",
   "metadata": {},
   "source": [
    "**신경망 학습에서 사용하는 지표는 손실 함수(loss function)라고 한다. 이 손실 함수는 임의의 함수를 사용할 수도 있지만 일반적으로는 평균 제곱 오차와 교차 엔트로피 오차를 사용한다.**"
   ]
  },
  {
   "cell_type": "markdown",
   "metadata": {},
   "source": [
    "### **4.2.1 평균 제곱 오차**"
   ]
  },
  {
   "cell_type": "markdown",
   "metadata": {},
   "source": [
    "**가장 많이 쓰이는 손실 함수는 평균 제곱 오차(mean squared error, MSE)이다.**"
   ]
  },
  {
   "cell_type": "markdown",
   "metadata": {},
   "source": [
    "![test](./img/평균제곱오차.png)"
   ]
  },
  {
   "cell_type": "markdown",
   "metadata": {},
   "source": [
    "**여기서는 y는 신경망의 출력 (신경망이 추정한 값), t는 정답 레이블, k는 데이터의 차원 수를 나타낸다.**"
   ]
  },
  {
   "cell_type": "code",
   "execution_count": 1,
   "metadata": {},
   "outputs": [],
   "source": [
    "import numpy as np\n",
    "\n",
    "def mean_squared_error(y,t):\n",
    "    return 0.5 * np.sum((y-t)**2)"
   ]
  },
  {
   "cell_type": "code",
   "execution_count": 2,
   "metadata": {},
   "outputs": [
    {
     "name": "stdout",
     "output_type": "stream",
     "text": [
      "0.09750000000000003\n",
      "0.6975\n"
     ]
    }
   ],
   "source": [
    "y = [0.1,0.05,0.6,0.0,0.05,0.1,0.0,0.1,0.0,0.0] # 2번째 index로 예측\n",
    "y2 = [0.1,0.05,0.0,0.0,0.05,0.1,0.6,0.1,0.0,0.0] # 6번째 index로 예측\n",
    "t = [0,0,1,0,0,0,0,0,0,0] # 2 번째 index\n",
    "print(mean_squared_error(np.array(y),np.array(t))) # MSE = 0.0975\n",
    "print(mean_squared_error(np.array(y2),np.array(t))) # MSE = 0.6975"
   ]
  },
  {
   "cell_type": "markdown",
   "metadata": {},
   "source": [
    "### **4.2.2 교차 엔트로피 오차**"
   ]
  },
  {
   "cell_type": "markdown",
   "metadata": {},
   "source": [
    "**또 다른 손실 함수로서 교차 엔트로피 오차(cross entropy error, CEE)도 자주 사용한다.**"
   ]
  },
  {
   "cell_type": "markdown",
   "metadata": {},
   "source": [
    "![test](./img/교차엔트로피오차.png)"
   ]
  },
  {
   "cell_type": "markdown",
   "metadata": {},
   "source": [
    "**여기에서 log는 밑이 e인 자연로그이다. y는 신경망의 출력, t는 정답 레이블이다.**\n",
    "\n",
    "> **따라서 실질적으로 정답일 때의 추정 (t가 1일 때의 y)의 자연로그를 계산하는 식이 된다.**\n",
    "\n",
    "**즉, 교차 엔트로피 오차는 정답일 때의 출력이 전체 값을 정하게 된다.**"
   ]
  },
  {
   "cell_type": "markdown",
   "metadata": {},
   "source": [
    "![test](./img/교차엔트로피오차1.png)"
   ]
  },
  {
   "cell_type": "code",
   "execution_count": 3,
   "metadata": {},
   "outputs": [],
   "source": [
    "import numpy as np\n",
    "\n",
    "def cross_entropy_error(y,t):\n",
    "    delta = 1e-7 # np.log에 0이 들어가면 무한대로 값이 커지므로 아주 작은 값을 더해준다.\n",
    "    return -np.sum(t*np.log(y+delta))"
   ]
  },
  {
   "cell_type": "code",
   "execution_count": 4,
   "metadata": {},
   "outputs": [
    {
     "name": "stdout",
     "output_type": "stream",
     "text": [
      "0.510825457099338\n",
      "16.11809565095832\n"
     ]
    }
   ],
   "source": [
    "y = [0.1,0.05,0.6,0.0,0.05,0.1,0.0,0.1,0.0,0.0] # 2번째 index로 예측\n",
    "y2 = [0.1,0.05,0.0,0.0,0.05,0.1,0.6,0.1,0.0,0.0] # 6번째 index로 예측\n",
    "t = [0,0,1,0,0,0,0,0,0,0] # 2번째 index\n",
    "\n",
    "print(cross_entropy_error(np.array(y),np.array(t))) # -log0.6 = 0.5108..\n",
    "print(cross_entropy_error(np.array(y2),np.array(t))) # -log0.0 = 16.11.."
   ]
  },
  {
   "cell_type": "markdown",
   "metadata": {},
   "source": [
    "### **4.2.3 미니배치 학습**"
   ]
  },
  {
   "cell_type": "markdown",
   "metadata": {},
   "source": [
    "**기계학습 문제는 훈련 데이터를 사용해 학습한다. 더 구체적으로 말하면 훈련 데이터에 대한 손실 함수의 값을 구하고, 그 값을 최대한 줄여주는 매개변수를 찾아낸다.**\n",
    "\n",
    "> **이렇게 하려면 모든 훈련 데이터를 대상으로 손실 함수 값을 구해야 한다. 즉, 훈련 데이터가 100개 있으면 그로부터 계산한 100개의 손실 함수 값들의 합을 지표로 삼는 것이다.**"
   ]
  },
  {
   "cell_type": "markdown",
   "metadata": {},
   "source": [
    "\n",
    "![test](./img/엔트로피.png)\n"
   ]
  },
  {
   "cell_type": "markdown",
   "metadata": {},
   "source": [
    "**이때 데이터가 N개라면 t는 n번째 데이터의 k번째 값을 의미한다.(y는 신경망의 출력, t는 정답 레이블이다.)**"
   ]
  },
  {
   "cell_type": "markdown",
   "metadata": {},
   "source": [
    "**그리고 마지막에 N으로 나누어 정규화를 진행한다.(N으로 나눔으로써 '평균 손실 함수'를 구하는 것이다.)**\n",
    "\n",
    "> **이렇게 평균을 구해 사용하면 훈련 데이터 개수와 관계없이 언제든 통일된 지표를 얻을 수 있다.**\n",
    "\n",
    "**많은 양의 빅데이터를 대상으로 손실 함수의 합을 구하려면 많은 시간이 걸리기 때문에 이런 경우 데이터의 일부를 추려 전체의 '근사치'로 이용한다.**\n",
    "\n",
    "> **신경망 학습에서 훈련 데이터로 부터 일부만 골라서 학습 하는 것을 미니배치 학습(mini-batch)라 한다.**"
   ]
  },
  {
   "cell_type": "code",
   "execution_count": 5,
   "metadata": {},
   "outputs": [],
   "source": [
    "import sys,os\n",
    "sys.path.append(os.pardir)\n",
    "import numpy as np\n",
    "from dataset.mnist import load_mnist"
   ]
  },
  {
   "cell_type": "code",
   "execution_count": 6,
   "metadata": {},
   "outputs": [],
   "source": [
    "(X_train,y_train), (X_test,y_test) = load_mnist(normalize=True,one_hot_label=True)"
   ]
  },
  {
   "cell_type": "code",
   "execution_count": 7,
   "metadata": {},
   "outputs": [
    {
     "name": "stdout",
     "output_type": "stream",
     "text": [
      "(60000, 784)\n",
      "(60000, 10)\n"
     ]
    }
   ],
   "source": [
    "print(X_train.shape)\n",
    "print(y_train.shape)"
   ]
  },
  {
   "cell_type": "markdown",
   "metadata": {},
   "source": [
    "**앞의 코드에서 MNIST 데이터를 읽은 결과, 훈련 데이터는 60,000개고, 입력 데이터는 784열 (원래는 28 x 28)인 이미지 데이터임을 알 수 있다. 또, 정답 레이블은 10줄짜리 데이터이다. 그래서 잎의 x_train, y_train의 모습은 각각 (60000,784)와 (60000,10)이 된다.**"
   ]
  },
  {
   "cell_type": "markdown",
   "metadata": {},
   "source": [
    "**그러면 이 훈련 데이터에서 무작위로 10장만 빼내려면 어떻게 하면 될까? 넘파이의 np.random.choice() 함수를 쓰면 다음과 같이 해결가능하다.**"
   ]
  },
  {
   "cell_type": "code",
   "execution_count": 8,
   "metadata": {},
   "outputs": [],
   "source": [
    "# train_size, batch_size 설정\n",
    "train_size = X_train.shape[0] # 60,000\n",
    "batch_size = 10 # batch 수 \n",
    "\n",
    "# np.random.choice: batch_size 랜덤하게 배치사이즈만큼의 랜덤 값들을 추출하여 batch_mask에 할당\n",
    "# np.random.choice(train_size,batch_size) train_size 미만의 수 중에서 batch_size만큼 무작위로 골라낸다.\n",
    "batch_mask = np.random.choice(train_size,batch_size) \n",
    "\n",
    "# batch 처리\n",
    "X_batch = X_train[batch_mask]\n",
    "y_batch = y_train[batch_mask]"
   ]
  },
  {
   "cell_type": "markdown",
   "metadata": {},
   "source": [
    "### **4.2.4 (배치용) 교차 엔트로피 오차 구현하기**"
   ]
  },
  {
   "cell_type": "markdown",
   "metadata": {},
   "source": [
    "**조금 전 구현한 교차 엔트로피 오차(데이터를 하나씩 처리하는 구현)을 조금만 바꿔주면 된다. 여기에서는 데이터가 하나인 경우와 데이터가 배치로 묶여 입력될 겨우 모두를 처리할 수 있도록 구현한다.**"
   ]
  },
  {
   "cell_type": "code",
   "execution_count": 9,
   "metadata": {},
   "outputs": [],
   "source": [
    "def cross_entropy_error(y,t):\n",
    "    if y.dim == 1: # y가 1차원이라면,\n",
    "        t = t.reshape(1,t.size) \n",
    "        # 데이터 하나당 교차 엔트로피 오차를 구하는 경우 데이터의 형상을 바꿔준다. \n",
    "        y = y.reshape(1,y.size) \n",
    "    batch_size = y.shape[0] # 훈련데이터의 행 데이터의 수를 batch_size로 지정\n",
    "    return -np.sum(t*np.log(y+1e-7)) / batchsize # 엔트로피 오차의 평균을 계산"
   ]
  },
  {
   "cell_type": "markdown",
   "metadata": {},
   "source": [
    "**이 코드에서 y는 신경망의 출력, t는 정답 레이블이다. y가 1차원이라면, 즉 데이터 하나당 교차 엔트로피 오차를 구하는 경우는 reshape 함수로 데이터의 형상을 바꿔준다. 그리고 배치의 크기로 나눠 정규화하고 이미지 1장당 평균의 교차 엔트로피 오차를 계산한다.**"
   ]
  },
  {
   "cell_type": "markdown",
   "metadata": {},
   "source": [
    "**정답 레이블이 원-핫 인코딩이 아니라 '2'나 '7' 등의 숫자 레이블로 주어졌을 때의 교차 엔트로피 오차는 다음과 같이 구현할 수 있다.**"
   ]
  },
  {
   "cell_type": "code",
   "execution_count": 10,
   "metadata": {},
   "outputs": [],
   "source": [
    "def cross_entropy_error_no_ont_hot(y,t):\n",
    "    if y.dim == 1:\n",
    "        t = t.reshape(1,t.size)\n",
    "        y = y.reshape(1,y_size)\n",
    "        \n",
    "    batch_size = y.shape[0] \n",
    "    return -np.sum(np.log(y[np.arange(batch_size),t]+1e-7)) / batch_size"
   ]
  },
  {
   "cell_type": "markdown",
   "metadata": {},
   "source": [
    "**np.log(y[np.arange(batch_size),t])**\n",
    "\n",
    "> **np.arange 0 ~ batch_size - 1 까지의 배열 생성**\n",
    "\n",
    "> **t에는 실제 레이블이 저장되어있으므로 예를들어 [2,7,0,9,4]와 같이 저장**\n",
    "\n",
    "> **즉, y[0,2],y[1,7],y[2,0],.., 같이 저장**\n",
    "\n",
    "**이 구현의 핵심은 정답에 해당하는 신경망의 출력만으로 교차 엔트로피 오차를 계산한다는 점이다.**"
   ]
  },
  {
   "cell_type": "markdown",
   "metadata": {},
   "source": [
    "### **4.2.5 왜 손실 함수를 설정하는가?**"
   ]
  },
  {
   "cell_type": "markdown",
   "metadata": {},
   "source": [
    "**'정확도'라는 지표를 놔두고 '손실 함수의 값'이라는 우회적인 방법을 택하는 이유는 신경망 학습에서의 '미분'의 역할에 주목해야한다.**"
   ]
  },
  {
   "cell_type": "markdown",
   "metadata": {},
   "source": [
    "**신경망 학습에서는 최적의 매개변수(가중치와 편향)를 탐색할 때 손실 함수의 값을 가능한 작게 하는 매개변수 값을 찾는다. 이때 매개변수의 미분(정확히는 기울기)을 계산하고, 그 미분 값을 단서로 매개변수의 값을 서서히 갱신하는 과정을 반복한다.**"
   ]
  },
  {
   "cell_type": "markdown",
   "metadata": {},
   "source": [
    "**가중치 매개변수의 손실 함수의 미분이란 '가중치 매개변수의 값을 아주 조금 변화 시켰을 때, 손실 함수가 어떻게 변하나'라는 의미이다. 만약 이 미분 값이 음수면 그 가중치 매개변수를 양의 방향으로 변화시켜 손실 함수의 값을 줄일 수 있다. 반대로, 이 미분 값이 양수면 그 가중치 매개변수를 음의 방향으로 변화시켜 손실 함수의 값을 줄일 수 있다.**\n",
    "\n",
    "> **그러나 미분 값이 0이면 가중치 매개변수를 어느 쪽으로 움직여도 손실 함수의 값은 달라지지 않는다. 그래서 그 가중치 매개변수의 갱신은 거기서 멈춘다.**\n",
    "\n",
    "**신경망을 학습할 때 정확도를 지표로 삼아서는 안 된다. 정확도를 지표로 하면 매개변수의 미분이 대부분의 장소에서 0이 되기 때문이다.**\n",
    "\n",
    "> **정확도는 미세한 변화에는 거의 반응을 보이지 않고, 반응이 있더라도 그 값이 불연속적으로 갑자기 변화한다. 이는 '계단 함수'를 활성화 함수로 사용하지 않는 이유와도 들어맞다.**\n",
    "\n",
    "![test](./img/계단함수와시그모이드함.png)\n",
    "\n",
    "**계단 함수는 한순간만 변화를 일으키지만, 시그모이드 함수의 미분(접선)은 출력이 연속적으로 변하고 곤선의 기울기도 연속적으로 변한다. 즉, 시그모이드 함수의 미분은 어느 장소라도 0이 되지 않는다.**"
   ]
  },
  {
   "cell_type": "markdown",
   "metadata": {},
   "source": [
    "**이는 신경망 학습에서 중요한 성질로, 기울기가 0이 되지 않는 덕분에 신경망이 올바르게 학습할 수 있다.**"
   ]
  },
  {
   "cell_type": "markdown",
   "metadata": {},
   "source": [
    "## **4.3 수치 미분**"
   ]
  },
  {
   "cell_type": "markdown",
   "metadata": {},
   "source": [
    "**경사법에서는 기울기(경사) 값을 기준으로 나아갈 방향을 정한다. 기울기란 무엇인지, 또 어떤 성질이 있는지 설명하기 앞서, 이번 절에서는 학생 때 배운 '미분'부터 복습한다.**"
   ]
  },
  {
   "cell_type": "markdown",
   "metadata": {},
   "source": [
    "### **4.3.1 미분**"
   ]
  },
  {
   "cell_type": "markdown",
   "metadata": {},
   "source": [
    "**10분에 2km씩 달렸다고 가정하면, 이때의 속도는 간단히 2/10 = 0.2[km/분]이라고 계산할 수 있다. 즉, 1분에 0.2km만큼의 속도(변화)로 뛰었다고 해석할 수 있다.**\n",
    "\n",
    "> **다만 여기에서 10분에 2km를 뛰었다는 것은, 정확하게는 10분 동안의 '평균 속도'를 구한 것이다.**\n",
    "\n",
    "**미분은 '특정 순간'의 변화량을 뜻한다. 그래서 10분이라는 시간을 가능한 한 줄여(직전 1분에 달린 거리, 직전 1초에 달린 거리, 직전 0.1초에 달린 거리... 식으로 갈수록 간격을 줄여) 한 순간의 변화량(어느 순간의 속도)을 얻는 것이다.**"
   ]
  },
  {
   "cell_type": "markdown",
   "metadata": {},
   "source": [
    "![test](./img/미분1.png)"
   ]
  },
  {
   "cell_type": "markdown",
   "metadata": {},
   "source": [
    "**이처럼 미분은 한순간의 변화량을 표시한 것이다. 좌변 f(x)의 x에 대한 미분(x에 대한 f(x)의 변화량)을 나타내는 기호이다. 결국, x의 '작은 변화'가 함수 f(x)를 얼마나 변화시키느냐를 의미한다.**"
   ]
  },
  {
   "cell_type": "markdown",
   "metadata": {},
   "source": [
    "**이때 시간의 작은 변화, 즉 시간을 뜻하는 h를 한없이 0에 가깝게 한다는 의미를 lim로 나타낸다.**"
   ]
  },
  {
   "cell_type": "markdown",
   "metadata": {},
   "source": [
    "**f의 차분(임의의 두 점에서의 함수 값들의 차이) (x+h)와 x 사이의 함수 f의 차분을 계산하고 있지만, 애당초 이 계산에는 오차가 있다.**"
   ]
  },
  {
   "cell_type": "markdown",
   "metadata": {},
   "source": [
    "**'진정한 미분'은 x 위치의 함수의 기울기(이를 접선이라 함)에 해당하지만, 위 식으로 보면 (x+h)와 x사이에 기울기에 해당하므로 진정한 미분(진정한 접선)과 이번 구현의 값은 엄밀히는 일치하지 않는다. 이 차이는 h를 무한히 0으로 좁히는 것이 불가능해 생기는 한계이다.**"
   ]
  },
  {
   "cell_type": "markdown",
   "metadata": {},
   "source": [
    "![test](./img/접선기울기.png)"
   ]
  },
  {
   "cell_type": "markdown",
   "metadata": {},
   "source": [
    "**위 그림과 같이 수치 미분에는 오차가 포함된다. 이 오차를 줄이기 위해 (x+h)와 (x-h)일 때의 함수 f의 차분을 계산하는 방법을 쓰기도 한다.**"
   ]
  },
  {
   "cell_type": "markdown",
   "metadata": {},
   "source": [
    "**이 차분은 x를 중심으로 그 전후의 차분을 계산한다는 의미에서 중심 차분 혹은 중앙 차분이라 한다.(한편, (x+h)와 x의 차분은 전방 차분이라 한다.)**"
   ]
  },
  {
   "cell_type": "code",
   "execution_count": 11,
   "metadata": {},
   "outputs": [],
   "source": [
    "def numerical_diff(f,x): # f 함수 / x 인수\n",
    "    h = 1e-4 # 분모가 0이 되는 것을 방지\n",
    "    return (f(x+h)-f(x-h)) / (2*h)"
   ]
  },
  {
   "cell_type": "code",
   "execution_count": 12,
   "metadata": {},
   "outputs": [],
   "source": [
    "# y = 0.01x^2 + 0.1x\n",
    "def function_1(x):\n",
    "    return 0.01*x**2 + 0.1*x"
   ]
  },
  {
   "cell_type": "code",
   "execution_count": 13,
   "metadata": {},
   "outputs": [],
   "source": [
    "import numpy as np\n",
    "import matplotlib.pylab as plt\n",
    "%matplotlib inline"
   ]
  },
  {
   "cell_type": "code",
   "execution_count": 14,
   "metadata": {},
   "outputs": [
    {
     "data": {
      "image/png": "[encoded data removed]",
      "text/plain": [
       "<Figure size 432x288 with 1 Axes>"
      ]
     },
     "metadata": {
      "needs_background": "light"
     },
     "output_type": "display_data"
    }
   ],
   "source": [
    "x = np.arange(0.0,20.0,0.1) # 0 ~ 20에서 0.1 간격으로 원소 생성\n",
    "y = function_1(x)\n",
    "\n",
    "plt.xlabel('x')\n",
    "plt.ylabel('f(x)')\n",
    "plt.plot(x,y)\n",
    "plt.show()"
   ]
  },
  {
   "cell_type": "code",
   "execution_count": 15,
   "metadata": {},
   "outputs": [
    {
     "name": "stdout",
     "output_type": "stream",
     "text": [
      "0.1999999999990898\n",
      "0.2999999999986347\n"
     ]
    }
   ],
   "source": [
    "print(numerical_diff(function_1,5)) # X = 5 일때 미분(접선의 기울기)값\n",
    "print(numerical_diff(function_1,10)) # X = 10 일때 미분(접선의 기울기)값"
   ]
  },
  {
   "cell_type": "code",
   "execution_count": 16,
   "metadata": {
    "scrolled": true
   },
   "outputs": [
    {
     "name": "stdout",
     "output_type": "stream",
     "text": [
      "0.1999999999990898\n"
     ]
    },
    {
     "data": {
      "image/png": "[encoded data removed]",
      "text/plain": [
       "<Figure size 432x288 with 1 Axes>"
      ]
     },
     "metadata": {
      "needs_background": "light"
     },
     "output_type": "display_data"
    }
   ],
   "source": [
    "def tangent_line(f, x):\n",
    "    d = numerical_diff(f, x)\n",
    "    print(d)\n",
    "    y = f(x) - d*x\n",
    "    return lambda t: d*t + y\n",
    "     \n",
    "x = np.arange(0.0, 20.0, 0.1)\n",
    "y = function_1(x)\n",
    "plt.xlabel(\"x\")\n",
    "plt.ylabel(\"f(x)\")\n",
    "\n",
    "tf = tangent_line(function_1, 5)\n",
    "y2 = tf(x)\n",
    "\n",
    "plt.plot(x, y)\n",
    "plt.plot(x, y2)\n",
    "plt.show()"
   ]
  },
  {
   "cell_type": "markdown",
   "metadata": {},
   "source": [
    "### **4.3.3 편미분**"
   ]
  },
  {
   "cell_type": "markdown",
   "metadata": {},
   "source": [
    "**앞의 예와 달리 변수가 2개라는 점에 주의해야 한다.**"
   ]
  },
  {
   "cell_type": "markdown",
   "metadata": {},
   "source": [
    "![test](./img/편미분.png)"
   ]
  },
  {
   "cell_type": "code",
   "execution_count": 17,
   "metadata": {},
   "outputs": [],
   "source": [
    "def function_2(x):\n",
    "    return x[0]**2 + x[1]**2"
   ]
  },
  {
   "cell_type": "markdown",
   "metadata": {},
   "source": [
    "![test](./img/편미분그래.png)"
   ]
  },
  {
   "cell_type": "markdown",
   "metadata": {},
   "source": [
    "**변수가 두개일 때 미분의 주의할 점은 변수가 2개라는 점이다. 그래서 '어느 변수에 대한 미분이냐', 즉 x0와 x1 중 어는 변수에 대한 미분이냐를 구별해야 한다. 덧붙여 이와 같이 변수가 여럿인 함수에 대한 미분을 편미분이라 한다.**"
   ]
  },
  {
   "cell_type": "code",
   "execution_count": 18,
   "metadata": {},
   "outputs": [],
   "source": [
    "# x0 = 3 , x1 = 4 일 때, x0에 대한 편미분\n",
    "def function_tmp1(x0):\n",
    "    return x0**2 + 4.0 ** 2.0\n",
    "\n",
    "# x0 = 3, x1 = 4 일 때, x1에 대한 편미분\n",
    "def function_tmp2(x1):\n",
    "    return 3.0 ** 2.0 + x1 ** 2 "
   ]
  },
  {
   "cell_type": "code",
   "execution_count": 19,
   "metadata": {},
   "outputs": [
    {
     "name": "stdout",
     "output_type": "stream",
     "text": [
      "6.00000000000378\n",
      "7.999999999999119\n"
     ]
    }
   ],
   "source": [
    "print(numerical_diff(function_tmp1,3.0))\n",
    "print(numerical_diff(function_tmp2,4.0))"
   ]
  },
  {
   "cell_type": "markdown",
   "metadata": {},
   "source": [
    "**이처럼 편미분은 변수가 하나인 미분과 마찬가지로 특정 장소의 기울기를 구한다. 단, 여러 변수 중 목표 변수 하나에 초점을 맞추고 다른 변수는 값을 고정한다.**"
   ]
  },
  {
   "cell_type": "markdown",
   "metadata": {},
   "source": [
    "## **4.4 기울기**"
   ]
  },
  {
   "cell_type": "markdown",
   "metadata": {},
   "source": [
    "**x0와 x1의 편미분을 동시에 계산하고 싶다면 어떻게 할까? 가령 x0 = 3, x1 = 4일 때 (x0,x1) 양쪽의 편미분을 묶어서 계산한다고 생각할때, 이때 모든 변수의 편미분을 벡터로 정리한 것을 기울기(Gradient)라고 한다.**"
   ]
  },
  {
   "cell_type": "code",
   "execution_count": 20,
   "metadata": {},
   "outputs": [],
   "source": [
    "def numerical_gradient(f,x):\n",
    "    h = 1e-4 # 분모가 0이 되는걸 방지\n",
    "    grad = np.ones_like(x) # x와 형상이 같은 0을 원소로 가진 배열 생성\n",
    "    \n",
    "    for idx in range(x.size): # x의 원소의 개수만큼 반복\n",
    "        tmp_val = x[idx] # 원래의 원소를 tmp_val에 임시 저장\n",
    "        \n",
    "        # f(x+h)\n",
    "        x[idx] = tmp_val + h\n",
    "        fxh1 = f(x) # x[0]**2 + x[1]**2 -> 여기선 x[0]만 미세하게 바뀜\n",
    "        \n",
    "        # f(x-h)\n",
    "        x[idx] = tmp_val - h\n",
    "        fxh2 = f(x) # x[0]**2 + x[1]**2 -> 여기선 x[1]만 미세하게 바뀜\n",
    "        \n",
    "        # f(x+h) - f(x-h) / 2*h\n",
    "        grad[idx] = (fxh1 - fxh2) / (2*h)\n",
    "        x[idx] = tmp_val # 원래의 값으로 되돌림\n",
    "    \n",
    "    return grad"
   ]
  },
  {
   "cell_type": "code",
   "execution_count": 21,
   "metadata": {},
   "outputs": [
    {
     "name": "stdout",
     "output_type": "stream",
     "text": [
      "[6. 8.]\n",
      "[0. 4.]\n",
      "[6. 0.]\n"
     ]
    }
   ],
   "source": [
    "print(numerical_gradient(function_2,np.array([3.0,4.0])))\n",
    "print(numerical_gradient(function_2,np.array([0.0,2.0])))\n",
    "print(numerical_gradient(function_2,np.array([3.0,0.0])))"
   ]
  },
  {
   "cell_type": "markdown",
   "metadata": {},
   "source": [
    "![test](./img/기울기.png)"
   ]
  },
  {
   "cell_type": "markdown",
   "metadata": {},
   "source": [
    "**그런데 이 기울기라는 게 의미하는 건 무엇인지는 위 그림을 보면 알 수 있다. 기울기 그림은 위 그림 처럼 방향을 가진 벡터(화살표)로 그려진다. 이 그림을 보면 기울기는 함수의 '가장 낮은 장소(최솟값)'를 가르킨다. 마치 나침반처럼 화살표들은 한 점을 향하고 있다. 또 '가장 낮은 곳'에서 멀어질수록 화살표의 크기가 커짐을 알 수 있다.**"
   ]
  },
  {
   "cell_type": "markdown",
   "metadata": {},
   "source": [
    "**기울기는 가장 낮은 장소를 가리키지만, 사실 기울기는 각 지점에서 낮아지는 방향을 가리킨다. 더 정확히 말하자면 기울기가 가리키는 쪽은 각 장소에서 함수의 출력 값을 가장 크게 줄이는 방향이다.**"
   ]
  },
  {
   "cell_type": "markdown",
   "metadata": {},
   "source": [
    "### **4.4.1 경사법(경사 하강법)**"
   ]
  },
  {
   "cell_type": "markdown",
   "metadata": {},
   "source": [
    "**기계학습 문제 대부분은 학습 단계에서 최적의 매개변수를 찾아낸다. 신경망 역시 최적의 매개변수(가중치와 편향)를 학습 시에 찾아야 한다.**\n",
    "\n",
    "> **여기에서 최적이란 손실 함수가 최솟값이 될 때의 매개변수 값이다. 그러나 일반적인 문제의 손실 함수는 매우 복잡하다. 매개변수 공간이 광대하여 어디가 최솟값이 되는 곳인지를 짐작할 수 없다.**\n",
    "\n",
    "**이런 상황에서 기울기를 잘 이용해 함수의 최솟값(또는 가능한 한 작은 값)을 찾으려는 것이 경사법이다. 여기에서 주의할 점은 각 지점에서 함수의 값을 낮추는 방안을 제시하는 지표가 기울기이다.**\n",
    "\n",
    "> **그러나 기울기가 가리키는 곳에 정말 함수의 최솟값이 있는지, 즉 그쪽이 정말로 나아가야 할 방향인지는 보장할 수 없다. 실제로 복잡한 함수에서는 기울기가 가리키는 방향에 최솟값이 없는 경우가 대부분이다.**\n",
    "\n",
    "**기울어진 방향이 꼭 최솟값을 가리키는 것은 아니나, 그 방향으로 가야 함수의 값을 줄일 수 있다. 그래서 최솟값이 되는 장소를 찾는 문제에서는 기울기 정보를 단서로 나아갈 방향을 정한다.**"
   ]
  },
  {
   "cell_type": "markdown",
   "metadata": {},
   "source": [
    "**경사법은 현 위치에서 기울어진 방향으로 일정 거리만큼 이동한다. 그런 다음 이동한 곳에서도 마찬가지로 기울기를 구하고, 또 그 기울어진 방향으로 나아가기를 반복한다. 이렇게 해서 함수의 값을 점차 줄이는 것이 경사법(Gradient method)이다.**"
   ]
  },
  {
   "cell_type": "markdown",
   "metadata": {},
   "source": [
    "![test](./img/경사법.png)"
   ]
  },
  {
   "cell_type": "markdown",
   "metadata": {},
   "source": [
    "**η기호(eta,에타)는 갱신하는 양을 나타낸다. 이를 신경망 학습에서는 학습률(learning rate)라고 한다. 한 번의 학습으로 얼마만큼 학습해야 할지, 즉 매개변수 값을 얼마나 갱신하느냐를 정하는 것이 학습률이다.**\n",
    "\n",
    "> **여기에서는 변수가 2개인 경우를 보여줬지만, 변수의 수가 늘어도 같은 식(각 변수의 편미분 값)으로 갱신하게 된다.**\n",
    "\n",
    "**또한 학습률 값은 0.01이나 0.001 등 미리 특정 값으로 정해두어야 하는데, 일반적으로 이 값이 너무 크거나 작으면 '좋은 장소'를 찾아갈 수 없다.**\n",
    "\n",
    "> **신경망 학습에서는 보통 이 학습률 값을 변경하면서 올바르게 학습하고 있는지를 확인하면서 진행한다.**"
   ]
  },
  {
   "cell_type": "code",
   "execution_count": 22,
   "metadata": {},
   "outputs": [],
   "source": [
    "def gradient_descent(f,init_x,lr=0.01,step_num=100): \n",
    "    # f: 최적화하려는 함수, init_x: 초기값(weight), lr은 learning rate, step_num: 반복 수\n",
    "    x = init_x # 초기 weight\n",
    "    \n",
    "    for i in range(step_num): # 학습을 100번 진행\n",
    "        grad = numerical_gradient(f,x) # 각각을 편미분 하여 매 epoch별 weight의 기울기를 구함\n",
    "        x -= lr * grad # x(weight) -= lr(학습률) * grad(기울기)\n",
    "    return x"
   ]
  },
  {
   "cell_type": "code",
   "execution_count": 23,
   "metadata": {
    "scrolled": true
   },
   "outputs": [
    {
     "data": {
      "text/plain": [
       "array([-6.11110793e-10,  8.14814391e-10])"
      ]
     },
     "execution_count": 23,
     "metadata": {},
     "output_type": "execute_result"
    }
   ],
   "source": [
    "# 여기에서는 초깃값을 (-3.0,4.0)으로 설정한 후 경사법을 사용해 최솟값 탐색을 시작한다.\n",
    "# 최종 결과는 (-6.1e-10,8.1e-10)으로, 거의 (0,0)에 가까운 결과이다. 실제로 진정한 최솟값은 (0,0)이므로 경사법으로 거의 정확한 결과를 얻었다.\n",
    "init_x = np.array([-3.0,4.0]) # weight\n",
    "gradient_descent(function_2,init_x=init_x,lr=0.1,step_num=100)"
   ]
  },
  {
   "cell_type": "markdown",
   "metadata": {},
   "source": [
    "![test](./img/등고선.png)"
   ]
  },
  {
   "cell_type": "code",
   "execution_count": 24,
   "metadata": {},
   "outputs": [
    {
     "name": "stdout",
     "output_type": "stream",
     "text": [
      "[-2.58983747e+13 -1.29524862e+12]\n",
      "[-2.58983747e+13 -1.29524862e+12]\n"
     ]
    }
   ],
   "source": [
    "# 학습률이 너무 크면 큰 값으로 발산해버리고, 반대로 너무 작으면 거의 갱신되지 않은 채 끝나버린다.\n",
    "\n",
    "# 학습률이 너무 큰 예\n",
    "init_x = np.array([-3.0,4.0])\n",
    "print(gradient_descent(function_2,init_x=init_x, lr=10.0, step_num=100))\n",
    "\n",
    "# 학습률이 너무 작은 예\n",
    "print(gradient_descent(function_2,init_x=init_x, lr=1e-10, step_num=100))"
   ]
  },
  {
   "cell_type": "markdown",
   "metadata": {},
   "source": [
    "**학습률 같은 매개변수를 하이퍼파라미터(hyper parameter)라고 한다. 이는 가중치와 편향 같은 신경망의 매개변수와는 성질이 다른 매개변수이다.**"
   ]
  },
  {
   "cell_type": "markdown",
   "metadata": {},
   "source": [
    "**신경망의 가중치 매개변수는 훈련 데이터와 학습 알고리즘에 의해서 '자동'으로 획득되는 매개변수인 반면, 학습률 같은 하이퍼파라미터는 사람이 직접 설정해야 하는 매개변수이다.**\n",
    "\n",
    "> **일반적으로 이들 하이퍼파라미터는 여러 후보 값 중에서 시험을 통해 가장 잘 학습하는 값을 찾는 과정을 거쳐야한다.**"
   ]
  },
  {
   "cell_type": "markdown",
   "metadata": {},
   "source": [
    "### **4.4.2 신경망에서의 기울기**"
   ]
  },
  {
   "cell_type": "markdown",
   "metadata": {},
   "source": [
    "**신경망 학습에서도 기울기를 구해야 한다. 여기서 말하는 기울기는 가중치 매개변수에 대한 손실 함수의 기울기이다.**"
   ]
  },
  {
   "cell_type": "markdown",
   "metadata": {},
   "source": [
    "**여기서 중요한 점은 W의 편미분한 형상과 W의 형상이 같다는 것이다.(둘다 2x3 이다.)**"
   ]
  },
  {
   "cell_type": "markdown",
   "metadata": {},
   "source": [
    "### **신경망에 필요 함수들 정리**"
   ]
  },
  {
   "cell_type": "code",
   "execution_count": 5,
   "metadata": {},
   "outputs": [],
   "source": [
    "import numpy as np\n",
    "\n",
    "def sigmoid(x):\n",
    "    return 1/(1+np.exp(-x)) # np.exp(-x) = exp(-x)\n",
    "\n",
    "def softmax(a):\n",
    "    c = np.max(a)\n",
    "    exp_a = np.exp(a - c) # Overflow 방지\n",
    "    # Softmax formula\n",
    "    sum_exp_a = np.sum(exp_a) \n",
    "    y = exp_a / sum_exp_a\n",
    "    return y\n",
    "def cross_entropy_error(y,t):\n",
    "    delta = 1e-7 # log0이 되는 것을 방지\n",
    "    # cross_entropy formula\n",
    "    return -np.sum(t*np.log(y+delta))\n",
    "\n",
    "def numerical_gradient(f, x):\n",
    "    h = 1e-4 # 분모가 0이 되는 것을 방지\n",
    "    grad = np.zeros_like(x)\n",
    "    it = np.nditer(x, flags=['multi_index'], op_flags=['readwrite'])\n",
    "\n",
    "    while not it.finished:\n",
    "        idx = it.multi_index\n",
    "        \n",
    "        # differential\n",
    "        tmp_val = x[idx]\n",
    "        x[idx] = float(tmp_val) + h\n",
    "        fxh1 = f(x) # f(x+h)\n",
    "        \n",
    "        x[idx] = tmp_val - h \n",
    "        fxh2 = f(x) # f(x-h)\n",
    "        grad[idx] = (fxh1 - fxh2) / (2*h)\n",
    "        \n",
    "        x[idx] = tmp_val # 값 복원\n",
    "        it.iternext()   \n",
    "        \n",
    "    return grad"
   ]
  },
  {
   "cell_type": "markdown",
   "metadata": {},
   "source": [
    "### **SimpleNet**"
   ]
  },
  {
   "cell_type": "code",
   "execution_count": 6,
   "metadata": {},
   "outputs": [],
   "source": [
    "class simpleNet:\n",
    "    def __init__(self):\n",
    "        self.W = np.random.randn(2,3) # normal_distbution random seed\n",
    "    def predict(self,x):\n",
    "        return np.dot(x,self.W) # Hypothesis\n",
    "    def loss(self,x,t):\n",
    "        z = self.predict(x) # Hypothesis\n",
    "        y = softmax(z) # Hypothesis의 결과 값을 softmax 함수를 통해 확률값으로 변환\n",
    "        loss = cross_entropy_error(y,t) # Cost(cross_entropy)\n",
    "        return loss"
   ]
  },
  {
   "cell_type": "code",
   "execution_count": 7,
   "metadata": {},
   "outputs": [
    {
     "name": "stdout",
     "output_type": "stream",
     "text": [
      "X: [0.6 0.9]\n",
      "t: [0 0 1]\n",
      "init Weight:\n",
      " [[-0.84703907 -0.42695282  0.06578689]\n",
      " [ 0.05469507 -1.15864863  1.10683186]]\n",
      "Hypothesis: [-0.45899788 -1.29895546  1.03562081]\n",
      "argmax: 1\n",
      "Cost: 0.27852941653164626\n"
     ]
    }
   ],
   "source": [
    "# SimpleNet class \n",
    "net = simpleNet()\n",
    "\n",
    "# dataset\n",
    "x = np.array([0.6,0.9]) # feature\n",
    "t = np.array([0,0,1]) # label\n",
    "print('X:',x)\n",
    "print('t:',t)\n",
    "\n",
    "# random weight output\n",
    "print('init Weight:\\n',net.W) \n",
    "\n",
    "# Hypothesis\n",
    "p = net.predict(x) \n",
    "print('Hypothesis:',p) \n",
    "\n",
    "# Max index \n",
    "print(\"argmax:\",np.argmax(x))\n",
    "\n",
    "# Cost function\n",
    "cost = net.loss(x,t)\n",
    "print(\"Cost:\",cost)"
   ]
  },
  {
   "cell_type": "code",
   "execution_count": 8,
   "metadata": {},
   "outputs": [
    {
     "name": "stdout",
     "output_type": "stream",
     "text": [
      "[[ 0.10187854  0.0439839  -0.14586244]\n",
      " [ 0.15281781  0.06597585 -0.21879366]]\n"
     ]
    }
   ],
   "source": [
    "# gradient 내부에서 f(x)를 실행하는데, 그와 일관성을 주기 위한 함수 f\n",
    "# f = lambda w: net.loss(x,t) \n",
    "def f(W): \n",
    "    return net.loss(x,t) \n",
    "\n",
    "# 각각의 loss 값일때 Gradient를 구한다.\n",
    "dW = numerical_gradient(f,net.W) \n",
    "print(dW)"
   ]
  },
  {
   "cell_type": "markdown",
   "metadata": {},
   "source": [
    "**결과를 보면 1행 1열의 값이 대략 0.17인데 이는 W11을 h만큼 늘리면 손실 함수의 값은 0.17h 만큼 증가한다는 의미다. 마찬가지로 2행 3열은 -0.84로 W23을 h만큼 늘리면 손실 함수의 값은 0.84만큼 감소하는 것이다. 그래서 손실 함수를 줄인다는 관점에서는 W23은 양의 방향으로 W11은 음의 방향으로 갱신해야 함을 알 수 있다. 또한, W23이 W11 보다 크게 기여한다는 사실도 알 수 있다.**"
   ]
  },
  {
   "cell_type": "markdown",
   "metadata": {},
   "source": [
    "## **4.5 학습 알고리즘 구현하기** "
   ]
  },
  {
   "cell_type": "markdown",
   "metadata": {},
   "source": [
    "**신경망 학습의 절차는 다음과 같다.**\n",
    "\n",
    "> **전제: 신경망에는 적응 가능한 가중치와 편향이 있고, 이 가중치와 편향을 훈련 데이터에 적응하도록 조정하는 과정을 '학습'이라 한다. 신경망 학습은 다음과 같다.**\n",
    "\n",
    "> **1단계-미니배치: 훈련 데이터 중 일부를 무작위로 가져온다. 이렇게 선별한 데이터를 미니배치라 하며, 그 미니배치의 손실 함수 값을 줄이는 것이 목표이다.**\n",
    "\n",
    "> **2단계-기울기 산출: 미니배치의 손실 함수 값을 줄이기 위해 각 가중치 매개변수의 기울기를 구한다. 기울기는 손실 함수의 값을 가장 작게 하는 방향을 제시한다.**\n",
    "\n",
    "> **3단계-매개변수 갱신: 가중치 매개변수를 기울기 방향으로 아주 조금 갱신한다.**\n",
    "\n",
    "> **4단계-반복: 1 ~ 3단계를 반복한다.**"
   ]
  },
  {
   "cell_type": "code",
   "execution_count": 16,
   "metadata": {},
   "outputs": [],
   "source": [
    "class TwoLayerNet:\n",
    "    def __init__(self,input_size,hidden_size,output_size,weight_init_std=0.01):\n",
    "        # __init__ 클래스를 초기화(초기화 메서드는 클래스를 생성할 때 불리는 메서드)\n",
    "        # input_size: 입력층 노드 설정\n",
    "        # hidden_size: 은닉층 노드 설정\n",
    "        # output_size: 출력층 노드 설정\n",
    "        # weight_init_std: learning rate\n",
    "        # \n",
    "        self.params = {} # 빈 딕셔너리 생성\n",
    "        self.params['W1'] = weight_init_std * np.random.randn(input_size,hidden_size) # Learning rate * W1\n",
    "        self.params['b1'] = np.zeros(hidden_size) # np.zeros 은닉층 노드의 개수만큼 1차원 원소 0을 생성\n",
    "        self.params['W2'] = weight_init_std * np.random.randn(hidden_size,output_size) # learning rate * W2\n",
    "        self.params['b2'] = np.zeros(output_size) # np.zeros 출력층 노드의 개수만큼 1차원 원소 0을 생성\n",
    "        \n",
    "    def predict(self, x):\n",
    "        # 가중치 할당 딕셔너리의 키 값을 통해 각각의 value 값을 W1,W2,b1,b2에 할당\n",
    "        W1, W2 = self.params['W1'], self.params['W2']\n",
    "        b1, b2 = self.params['b1'], self.params['b2']\n",
    "        \n",
    "        # Hypothesis\n",
    "        a1 = np.dot(x,W1) + b1\n",
    "        z1 = sigmoid(a1)\n",
    "        a2 = np.dot(z1,W2) + b2\n",
    "        y = softmax(a2)       \n",
    "        return y\n",
    "    \n",
    "    def loss(self,x,t):\n",
    "        # loss (cross_entropy)\n",
    "        y = self.predict(x)       \n",
    "        return cross_entropy_error(y,t)\n",
    "    \n",
    "    def accuracy(self,x,t):\n",
    "        # Hypothesis\n",
    "        y = self.predict(x)\n",
    "        # np.argmax를 통해 각 row의 가장 높은 값의 인덱스를 추출\n",
    "        y = np.argmax(y, axis=1)\n",
    "        t = np.argmax(t, axis=1)\n",
    "        # accuracy\n",
    "        accuracy = np.sum(y == t) / float(x.shape[0]) \n",
    "        return accuracy\n",
    "    def numerical_gradient(self,x,t):\n",
    "        # loss 값을 loss_W에 할당\n",
    "        loss_W = lambda W: self.loss(x,t)\n",
    "        # 각각의 gradient를 담을 공간 \n",
    "        grads = {}\n",
    "        grads['W1'] = numerical_gradient(loss_W,self.params['W1'])\n",
    "        grads['b1'] = numerical_gradient(loss_W,self.params['b1'])\n",
    "        grads['W2'] = numerical_gradient(loss_W,self.params['W2'])\n",
    "        grads['b2'] = numerical_gradient(loss_W,self.params['b2'])\n",
    "        \n",
    "        return grads"
   ]
  },
  {
   "cell_type": "code",
   "execution_count": 23,
   "metadata": {},
   "outputs": [
    {
     "name": "stdout",
     "output_type": "stream",
     "text": [
      "(784, 100)\n",
      "(100,)\n",
      "(100, 10)\n",
      "(10,)\n"
     ]
    }
   ],
   "source": [
    "# TwoLayerNet 클래스는 딕셔너리인 params와 grads를 인스턴스 변수로 갖는다.\n",
    "# 그리고 params 변수에 저장된 가중치 매개변수가 예측 처리(순방향 처리)에서 사용된다.\n",
    "net = TwoLayerNet(input_size=784, hidden_size=100,output_size=10)\n",
    "print(net.params['W1'].shape)\n",
    "print(net.params['b1'].shape)\n",
    "print(net.params['W2'].shape)\n",
    "print(net.params['b2'].shape)"
   ]
  },
  {
   "cell_type": "code",
   "execution_count": 26,
   "metadata": {},
   "outputs": [
    {
     "name": "stdout",
     "output_type": "stream",
     "text": [
      "(100, 784)\n",
      "(100, 10)\n",
      "(100, 10)\n"
     ]
    }
   ],
   "source": [
    "x = np.random.rand(100,784) # x_data 100,784 즉, 100개의 데이터 784개의 특성을 지님\n",
    "y = net.predict(x)\n",
    "t = np.random.rand(100,10)\n",
    "print(x.shape)\n",
    "print(y.shape)\n",
    "print(t.shape)"
   ]
  },
  {
   "cell_type": "code",
   "execution_count": 29,
   "metadata": {},
   "outputs": [
    {
     "name": "stdout",
     "output_type": "stream",
     "text": [
      "(784, 100)\n",
      "(100,)\n",
      "(100, 10)\n",
      "(10,)\n"
     ]
    }
   ],
   "source": [
    "# grads 변수에는 params 변수에 대응하는 각 매개변수의 기울기가 저장된다.\n",
    "grads = net.numerical_gradient(x,t)\n",
    "\n",
    "# 각 매개변수의 기울기\n",
    "print(grads['W1'].shape)\n",
    "print(grads['b1'].shape)\n",
    "print(grads['W2'].shape)\n",
    "print(grads['b2'].shape) "
   ]
  },
  {
   "cell_type": "markdown",
   "metadata": {},
   "source": [
    "**__init__(self,input_size,hidden_size,output_size) 메서드는 클래스를 초기화한다.**\n",
    "\n",
    "> **입력층, 은닉층, 출력층을 설정하고, 가중치 매개변수도 초기화한다.**\n",
    "\n",
    "**가중치 매개변수의 초깃값을 무엇으로 설정하냐가 신경망 학습의 성공을 좌우한다.**\n",
    "\n",
    "> **하지만 당장은 정규분포를 따르는 난수로, 편향은 0으로 초기화한다고 이야기하고 넘어간다.**"
   ]
  },
  {
   "cell_type": "markdown",
   "metadata": {},
   "source": [
    "**numerical_gradient(self,x,t)는 수치 미분 방식으로 매개변수의 기울기를 계산한다. 다음 장에서는 이 기울기 계산을 고속으로 수행하는 기법을 설명하는데, 그 방법은 바로 오차역전파법이다.**"
   ]
  },
  {
   "cell_type": "markdown",
   "metadata": {},
   "source": [
    "**오차역전파법을 쓰면 수치 미분을 사용할 때와 거의 같은 결과를 훨씬 빠르게 얻을 수 있다.**"
   ]
  },
  {
   "cell_type": "markdown",
   "metadata": {},
   "source": [
    "### **4.5.2 미니배치 학습 구현하기**"
   ]
  },
  {
   "cell_type": "markdown",
   "metadata": {},
   "source": [
    "**미니배치 학습이란 훈련 데이터 중 일부를 무작위로 꺼내고(미니배치), 그 미니배치에 대해서 경사법으로 매개변수를 갱신한다.**"
   ]
  },
  {
   "cell_type": "code",
   "execution_count": 35,
   "metadata": {},
   "outputs": [],
   "source": [
    "import numpy as np\n",
    "from dataset.mnist import load_mnist\n",
    "\n",
    "# data import\n",
    "(x_train,y_train), (x_test,y_test) = load_mnist(normalize=True,one_hot_label=True)\n",
    "\n",
    "train_loss_list = [] # loss list\n",
    "\n",
    "# hyper parameter\n",
    "iters_num = 10 # iteration\n",
    "train_size = x_train.shape[0] # train_size\n",
    "batch_size = 100 # mini batch size\n",
    "learning_rate = 0.1 # learning rate\n",
    "\n",
    "# network\n",
    "network = TwoLayerNet(input_size=784,hidden_size=50,output_size=10) "
   ]
  },
  {
   "cell_type": "code",
   "execution_count": 36,
   "metadata": {},
   "outputs": [],
   "source": [
    "# training\n",
    "for i in range(iters_num): \n",
    "    # train_size 중에서 batch_size만큼 랜덤으로 인덱스 위치를 추출\n",
    "    batch_mask = np.random.choice(train_size,batch_size) \n",
    "    x_batch = x_train[batch_mask] # 인덱스 번호에 있는 데이터 할당\n",
    "    t_batch = y_train[batch_mask] # 인덱스 번호에 있는 데이터 할당\n",
    "    \n",
    "    # Gradient\n",
    "    grad = network.numerical_gradient(x_batch,t_batch) \n",
    "    \n",
    "    # parameter update\n",
    "    for key in ('W1','b1','W2','b2'): \n",
    "        network.params[key] -= learning_rate * grad[key] # (W,b) -= learning rate * gradient\n",
    "    \n",
    "    # cost or loss function\n",
    "    loss = network.loss(x_batch,t_batch) \n",
    "    train_loss_list.append(loss)"
   ]
  },
  {
   "cell_type": "markdown",
   "metadata": {},
   "source": [
    "**학습 횟수가 늘어가면서 손힐 함수의 값이 줄어든다. 이는 학습이 잘 되고 있다는 뜻으로, 신경망의 가중치 매개변수가 서서히 데이터에 적응하고 있음을 의미한다. 바로 신경망이 학습하고 있는 것이다. 다시 말해 데이터를 반복해서 학습함으로써 최적 가중치 매개변수로 서서히 다가가고 있다.**"
   ]
  },
  {
   "cell_type": "markdown",
   "metadata": {},
   "source": [
    "### **4.5.3 시험 데이터로 평가하기**"
   ]
  },
  {
   "cell_type": "markdown",
   "metadata": {},
   "source": [
    "**미니배치 학습 과정에서 손실 함수의 값이란, 정확히는 '훈련 데이터의 미니배치에 대한 손실함수'의 값이다.**"
   ]
  },
  {
   "cell_type": "markdown",
   "metadata": {},
   "source": [
    "**따라서 이 결과만으로는 다른 데이터셋에도 비슷한 실력을 발휘할지는 확실하지 않다.**\n",
    "\n",
    "> **다른 말로 '오버피팅'을 일으키지 않는지 확인해야한다.**"
   ]
  },
  {
   "cell_type": "markdown",
   "metadata": {},
   "source": [
    "**신경망 학습의 목표는 범용적인 능력을 익히는 것이다. 이를 위해 다음 구현에서는 학습 도중 정기적으로 훈련 데이터와 시험 데이터를 대상으로 정확도를 기록한다.**\n",
    "\n",
    "> **에폭(epoch)은 하나의 단위이다. 1에폭은 학습에서 훈련 데이터를 모두 소진했을 때의 횟수에 해당 예컨대 훈련 데이터 10,000개를 100개의 미니배치로 학습할 경우, 확률적 경사하강법을 100회 반복하면 모든 훈련 데이터를 '소진'하게 된다. 이 경우 100회가 1에폭이 된다.**"
   ]
  },
  {
   "cell_type": "code",
   "execution_count": 49,
   "metadata": {},
   "outputs": [],
   "source": [
    "import numpy as np\n",
    "from dataset.mnist import load_mnist\n",
    "\n",
    "# data import\n",
    "(x_train,y_train), (x_test,y_test) = load_mnist(normalize=True,one_hot_label=True)\n",
    "\n",
    "train_loss_list = [] # loss list\n",
    "train_acc_list = [] # train accuracy list\n",
    "test_acc_list = [] # test accuracy list\n",
    "\n",
    "# hyper parameter\n",
    "iters_num = 10 # iteration 10000\n",
    "train_size = x_train.shape[0] # train_size\n",
    "batch_size = 100 # mini batch size\n",
    "learning_rate = 0.1 # learning rate\n",
    "\n",
    "# 1epoch iter\n",
    "iter_per_epoch = (train_size/batch_size)\n",
    "\n",
    "# network\n",
    "network = TwoLayerNet(input_size=784,hidden_size=50,output_size=10) "
   ]
  },
  {
   "cell_type": "code",
   "execution_count": 50,
   "metadata": {},
   "outputs": [
    {
     "name": "stdout",
     "output_type": "stream",
     "text": [
      "train acc, test acc |0.11236666666666667,0.1135\n"
     ]
    }
   ],
   "source": [
    "# training\n",
    "for i in range(iters_num): \n",
    "    # train_size 중에서 batch_size만큼 랜덤으로 인덱스 위치를 추출\n",
    "    batch_mask = np.random.choice(train_size,batch_size) \n",
    "    x_batch = x_train[batch_mask] # 인덱스 번호에 있는 데이터 할당\n",
    "    t_batch = y_train[batch_mask] # 인덱스 번호에 있는 데이터 할당\n",
    "    \n",
    "    # Gradient\n",
    "    grad = network.numerical_gradient(x_batch,t_batch) \n",
    "    \n",
    "    # parameter update\n",
    "    for key in ('W1','b1','W2','b2'): \n",
    "        network.params[key] -= learning_rate * grad[key] # (W,b) -= learning rate * gradient\n",
    "    \n",
    "    # cost or loss function\n",
    "    loss = network.loss(x_batch,t_batch) \n",
    "    train_loss_list.append(loss)\n",
    "    \n",
    "    # 1epoch accuracy\n",
    "    if i % iter_per_epoch == 0:\n",
    "        train_acc = network.accuracy(x_train,y_train)\n",
    "        test_acc = network.accuracy(x_test, y_test)\n",
    "        train_acc_list.append(train_acc)\n",
    "        test_acc_list.append(test_acc)\n",
    "        print(\"train acc, test acc |\" + str(train_acc) + ',' + str(test_acc))"
   ]
  },
  {
   "cell_type": "markdown",
   "metadata": {},
   "source": [
    "![test](./img/미니배치.png)"
   ]
  },
  {
   "cell_type": "markdown",
   "metadata": {},
   "source": [
    "**이 예에서는 1에폭마다 모든 훈련 데이터와 시험 데이터에 대한 정확도를 계산하고, 그 결과를 기록한다.**\n",
    "\n",
    "> **정확도를 1에폭마다 계산하는 이유는 for 문 안에서 매번 계산하기에는 시간이 오래 걸리고, 또 그렇게까지 자주 기록할 필요도 없기 때문이다. 더 큰 관점에서 그 추이를 알 수 있으면 충분하다.**\n",
    "\n",
    "**보다시피 에폭이 진행될수록(학습이 진행될수록) 훈련 데이터와 시험 데이터를 사용하고 평가한 정확도가 모두 좋아지고 있다. 또, 두 정확도에는 차이가 없음을 알 수 있다.(두 선이 거의 겹쳐있다.) 다시 말해 이번 학습에서 오버피팅이 일어나지 않았다.**"
   ]
  },
  {
   "cell_type": "code",
   "execution_count": 48,
   "metadata": {},
   "outputs": [
    {
     "data": {
      "text/plain": [
       "0"
      ]
     },
     "execution_count": 48,
     "metadata": {},
     "output_type": "execute_result"
    }
   ],
   "source": [
    "t1 = x_train[batch_mask]"
   ]
  },
  {
   "cell_type": "code",
   "execution_count": null,
   "metadata": {},
   "outputs": [],
   "source": []
  }
 ],
 "metadata": {
  "kernelspec": {
   "display_name": "Python 3",
   "language": "python",
   "name": "python3"
  },
  "language_info": {
   "codemirror_mode": {
    "name": "ipython",
    "version": 3
   },
   "file_extension": ".py",
   "mimetype": "text/x-python",
   "name": "python",
   "nbconvert_exporter": "python",
   "pygments_lexer": "ipython3",
   "version": "3.6.9"
  }
 },
 "nbformat": 4,
 "nbformat_minor": 2
}
